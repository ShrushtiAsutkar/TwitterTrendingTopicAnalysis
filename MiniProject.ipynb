{
  "nbformat": 4,
  "nbformat_minor": 0,
  "metadata": {
    "colab": {
      "name": "MiniProject.ipynb",
      "provenance": [],
      "collapsed_sections": [
        "38zk1xzhebsv"
      ]
    },
    "kernelspec": {
      "name": "python3",
      "display_name": "Python 3"
    },
    "language_info": {
      "name": "python"
    }
  },
  "cells": [
    {
      "cell_type": "markdown",
      "source": [
        "# **TWITTER TRENDING TOPIC ANALYSIS USING NLP**"
      ],
      "metadata": {
        "id": "EFi_kBV7dGM-"
      }
    },
    {
      "cell_type": "markdown",
      "source": [
        "# Scrapping data "
      ],
      "metadata": {
        "id": "tYESpdJwH0RZ"
      }
    },
    {
      "cell_type": "code",
      "source": [
        "!pip install -q snscrape"
      ],
      "metadata": {
        "id": "IZesfUv3DwC_"
      },
      "execution_count": 1,
      "outputs": []
    },
    {
      "cell_type": "code",
      "source": [
        "import pandas as pd\n",
        "import snscrape.modules.twitter as sntwitter\n",
        "import itertools"
      ],
      "metadata": {
        "id": "Ls6Ke_ABHc1G"
      },
      "execution_count": 2,
      "outputs": []
    },
    {
      "cell_type": "code",
      "source": [
        "loc = '19.0843, 72.8360,500km'\n",
        "df_coord = pd.DataFrame(itertools.islice(sntwitter.TwitterSearchScraper(\n",
        "    'geocode:\"{}\"'.format(loc)).get_items(), 50))[['date', 'content']]"
      ],
      "metadata": {
        "id": "JjMoYhsMHfAE"
      },
      "execution_count": 3,
      "outputs": []
    },
    {
      "cell_type": "code",
      "source": [
        "print(\"Data downloaded successfully\")\n",
        "df_coord.to_csv('twitter_data.csv')"
      ],
      "metadata": {
        "id": "NIWMsAn-Hs8p",
        "colab": {
          "base_uri": "https://localhost:8080/"
        },
        "outputId": "bf067c8a-9bc1-4323-ef85-f044ab545e74"
      },
      "execution_count": 4,
      "outputs": [
        {
          "output_type": "stream",
          "name": "stdout",
          "text": [
            "Data downloaded successfully\n"
          ]
        }
      ]
    },
    {
      "cell_type": "markdown",
      "source": [
        "# Importing required libraries :"
      ],
      "metadata": {
        "id": "HAgobaHgH8WL"
      }
    },
    {
      "cell_type": "code",
      "source": [
        "import numpy as np\n",
        "import pandas as pd \n",
        "import re\n",
        "\n",
        "import gensim\n",
        "from gensim import corpora, models, similarities\n",
        "from gensim.parsing.preprocessing import STOPWORDS\n",
        "from nltk.corpus import stopwords\n",
        "\n",
        "home = '../input/twitterrecentindia/'"
      ],
      "metadata": {
        "id": "Li72u9BXH6Qr"
      },
      "execution_count": 5,
      "outputs": []
    },
    {
      "cell_type": "markdown",
      "source": [
        "# Cleaning Data"
      ],
      "metadata": {
        "id": "69hQOZobJcUN"
      }
    },
    {
      "cell_type": "markdown",
      "source": [
        "# 1] Delete unnecessary data: usernames, emails, hyperlinks, punctuation, duplicate characters, and special characters like smileys (emoji)."
      ],
      "metadata": {
        "id": "u1J9vkzWJVjp"
      }
    },
    {
      "cell_type": "code",
      "source": [
        "!pip install demoji\n",
        "\n",
        "import demoji\n",
        "demoji.download_codes()\n"
      ],
      "metadata": {
        "id": "53AfsTAcJTO6",
        "outputId": "0d90e467-bc86-41f5-92d7-d002624384ea",
        "colab": {
          "base_uri": "https://localhost:8080/"
        }
      },
      "execution_count": 6,
      "outputs": [
        {
          "output_type": "stream",
          "name": "stdout",
          "text": [
            "Looking in indexes: https://pypi.org/simple, https://us-python.pkg.dev/colab-wheels/public/simple/\n",
            "Collecting demoji\n",
            "  Downloading demoji-1.1.0-py3-none-any.whl (42 kB)\n",
            "\u001b[K     |████████████████████████████████| 42 kB 1.4 MB/s \n",
            "\u001b[?25hInstalling collected packages: demoji\n",
            "Successfully installed demoji-1.1.0\n"
          ]
        },
        {
          "output_type": "stream",
          "name": "stderr",
          "text": [
            "/usr/local/lib/python3.7/dist-packages/ipykernel_launcher.py:4: FutureWarning: The demoji.download_codes attribute is deprecated and will be removed from demoji in a future version. It is an unused attribute as emoji codes are now distributed directly with the demoji package.\n",
            "  after removing the cwd from sys.path.\n"
          ]
        }
      ]
    },
    {
      "cell_type": "code",
      "source": [
        "df_coord"
      ],
      "metadata": {
        "colab": {
          "base_uri": "https://localhost:8080/",
          "height": 1000
        },
        "id": "DPHGoj2WFbu6",
        "outputId": "d62b0c6f-2c8f-4c38-a085-dad2a7bba2e7"
      },
      "execution_count": 7,
      "outputs": [
        {
          "output_type": "execute_result",
          "data": {
            "text/plain": [
              "                        date  \\\n",
              "0  2022-07-18 03:04:01+00:00   \n",
              "1  2022-07-18 03:04:01+00:00   \n",
              "2  2022-07-18 03:04:00+00:00   \n",
              "3  2022-07-18 03:04:00+00:00   \n",
              "4  2022-07-18 03:04:00+00:00   \n",
              "5  2022-07-18 03:04:00+00:00   \n",
              "6  2022-07-18 03:04:00+00:00   \n",
              "7  2022-07-18 03:04:00+00:00   \n",
              "8  2022-07-18 03:04:00+00:00   \n",
              "9  2022-07-18 03:04:00+00:00   \n",
              "10 2022-07-18 03:04:00+00:00   \n",
              "11 2022-07-18 03:04:00+00:00   \n",
              "12 2022-07-18 03:04:00+00:00   \n",
              "13 2022-07-18 03:04:00+00:00   \n",
              "14 2022-07-18 03:03:59+00:00   \n",
              "15 2022-07-18 03:03:59+00:00   \n",
              "16 2022-07-18 03:03:59+00:00   \n",
              "17 2022-07-18 03:03:59+00:00   \n",
              "18 2022-07-18 03:03:58+00:00   \n",
              "19 2022-07-18 03:03:58+00:00   \n",
              "20 2022-07-18 03:03:58+00:00   \n",
              "21 2022-07-18 03:03:58+00:00   \n",
              "22 2022-07-18 03:03:58+00:00   \n",
              "23 2022-07-18 03:03:58+00:00   \n",
              "24 2022-07-18 03:03:58+00:00   \n",
              "25 2022-07-18 03:03:58+00:00   \n",
              "26 2022-07-18 03:03:58+00:00   \n",
              "27 2022-07-18 03:03:57+00:00   \n",
              "28 2022-07-18 03:03:57+00:00   \n",
              "29 2022-07-18 03:03:57+00:00   \n",
              "30 2022-07-18 03:03:57+00:00   \n",
              "31 2022-07-18 03:03:57+00:00   \n",
              "32 2022-07-18 03:03:57+00:00   \n",
              "33 2022-07-18 03:03:57+00:00   \n",
              "34 2022-07-18 03:03:56+00:00   \n",
              "35 2022-07-18 03:03:56+00:00   \n",
              "36 2022-07-18 03:03:56+00:00   \n",
              "37 2022-07-18 03:03:56+00:00   \n",
              "38 2022-07-18 03:03:56+00:00   \n",
              "39 2022-07-18 03:03:56+00:00   \n",
              "40 2022-07-18 03:03:56+00:00   \n",
              "41 2022-07-18 03:03:56+00:00   \n",
              "42 2022-07-18 03:03:56+00:00   \n",
              "43 2022-07-18 03:03:56+00:00   \n",
              "44 2022-07-18 03:03:56+00:00   \n",
              "45 2022-07-18 03:03:55+00:00   \n",
              "46 2022-07-18 03:03:55+00:00   \n",
              "47 2022-07-18 03:03:55+00:00   \n",
              "48 2022-07-18 03:03:55+00:00   \n",
              "49 2022-07-18 03:03:55+00:00   \n",
              "\n",
              "                                              content  \n",
              "0         @gowda7709 @codentrade @abidsensibull Like?  \n",
              "1                        @btscredit What's happening?  \n",
              "2   You know that you are a superhero when you can...  \n",
              "3                      @bhaskarsingh715 @pandit_S97 🙏  \n",
              "4                             @vachhan18 હર હર મહાદેવ  \n",
              "5                                   @A_suryavanshi_ 🙏  \n",
              "6   Spiritual Magazine \\nRishi Prasad \\nDivya Anub...  \n",
              "7   @GopalGa49464745 ये वरदी पहन कर कट्टरपन की तकर...  \n",
              "8     https://t.co/eA0nudWC9L https://t.co/vr0Vqd7hQr  \n",
              "9                         🤣🤣🤣 https://t.co/pHskvNXdOm  \n",
              "10  @GopichandP_MLC @Dev_Fadnavis पाहुणे आपण सलाचे...  \n",
              "11  The latest #CLOUD Update! https://t.co/KCweEye...  \n",
              "12                                  @BitcoinLebron 🥰🤞  \n",
              "13                            https://t.co/QNSCVfFxa8  \n",
              "14  @nazir28 @PawanKalyan చేగువేరా గెటప్ బాగుటుంది...  \n",
              "15  Wishing 4 time @BJP4Karnataka Legislator, @BJP...  \n",
              "16  Rishi Prasaad a Spiritual Magazine which is pu...  \n",
              "17                                @Rish_quotes महादेव  \n",
              "18     @hypernationalst @psantosh_44 हर हर महादेव 🙏🏻🚩  \n",
              "19                       @ANINewsUP @ANI हर हर महादेव  \n",
              "20  \"માણસના સારા જીવનનો રસ્તો સારા પુસ્તકોથી થઈને ...  \n",
              "21  koi bata sakta hai tweeter pe username kaise c...  \n",
              "22  शाहू महाराज यांचे विचार....\\n#महाराष्ट्र https...  \n",
              "23  @Nk992739 @begu_manoj @ShubmanGill Om Namo Shivay  \n",
              "24  @skjnition Why it's bad...... If it would get ...  \n",
              "25       @isro @AgnikulCosmos https://t.co/5IDVG4aB7l  \n",
              "26  #WPT Investing Corp ( $WPT/WETH)\\n\\nPrice: $ 0...  \n",
              "27  @nishikant_dubey @AshwiniVaishnaw आजादी के 75 ...  \n",
              "28           @that_anokha_boy https://t.co/GoOW4VE42G  \n",
              "29       Congratulations 🎉🎉👏👏 https://t.co/9Eeiee5yxV  \n",
              "30  Spiritual Magazine \\nRishi Prasad \\nDivya Anub...  \n",
              "31  And @AkshayMarathe, happy to continue the conv...  \n",
              "32  @agor1312 @bhaskarsingh715 ॐ नमः शिवायः🕉️🕉️🕉️🕉...  \n",
              "33                            https://t.co/FAGNfrjnJp  \n",
              "34                       @afreen_f_khan Halala halala  \n",
              "35                @chauhanaug08 @BJPSP9 जय श्री कृष्ण  \n",
              "36  👑 Free NFT airdrop 👑\\n\\n✅ Drop your $ETH addre...  \n",
              "37  Is this the most glorious typo or what https:/...  \n",
              "38  #ऋषिप्रसाद_ज्ञानामृत\\n\"जिसके लिए ब्रह्म स्वयं ...  \n",
              "39  Hi, always we have two ways to solve a problem...  \n",
              "40  @AshramGaushala @RishiPrasadOrg @RishiDarshan ...  \n",
              "41  Look at this... 👀 https://t.co/QgKoiKrKuP nice...  \n",
              "42  Agar rahoge to shayad ho jayegi https://t.co/e...  \n",
              "43  Sawan Somvar ( Lord Shiva ) \\nsawan somvar ki ...  \n",
              "44  \"Let them eat their heart out\" he said of the ...  \n",
              "45  @INPettyOfficer @indiannavy RIP... may God giv...  \n",
              "46  @Deepakswami2571 @rajiv_dmk @SeemanOfficial எங...  \n",
              "47  @NurAlam70221273 Hi Alam, we are sorry to know...  \n",
              "48  Omg this is different not that who sold PNB.. ...  \n",
              "49  @raziasworld @DavidMariposa1 @Kri_Te_Acharya @...  "
            ],
            "text/html": [
              "\n",
              "  <div id=\"df-5940bf33-e7c9-4708-8170-0bf8783b1dbf\">\n",
              "    <div class=\"colab-df-container\">\n",
              "      <div>\n",
              "<style scoped>\n",
              "    .dataframe tbody tr th:only-of-type {\n",
              "        vertical-align: middle;\n",
              "    }\n",
              "\n",
              "    .dataframe tbody tr th {\n",
              "        vertical-align: top;\n",
              "    }\n",
              "\n",
              "    .dataframe thead th {\n",
              "        text-align: right;\n",
              "    }\n",
              "</style>\n",
              "<table border=\"1\" class=\"dataframe\">\n",
              "  <thead>\n",
              "    <tr style=\"text-align: right;\">\n",
              "      <th></th>\n",
              "      <th>date</th>\n",
              "      <th>content</th>\n",
              "    </tr>\n",
              "  </thead>\n",
              "  <tbody>\n",
              "    <tr>\n",
              "      <th>0</th>\n",
              "      <td>2022-07-18 03:04:01+00:00</td>\n",
              "      <td>@gowda7709 @codentrade @abidsensibull Like?</td>\n",
              "    </tr>\n",
              "    <tr>\n",
              "      <th>1</th>\n",
              "      <td>2022-07-18 03:04:01+00:00</td>\n",
              "      <td>@btscredit What's happening?</td>\n",
              "    </tr>\n",
              "    <tr>\n",
              "      <th>2</th>\n",
              "      <td>2022-07-18 03:04:00+00:00</td>\n",
              "      <td>You know that you are a superhero when you can...</td>\n",
              "    </tr>\n",
              "    <tr>\n",
              "      <th>3</th>\n",
              "      <td>2022-07-18 03:04:00+00:00</td>\n",
              "      <td>@bhaskarsingh715 @pandit_S97 🙏</td>\n",
              "    </tr>\n",
              "    <tr>\n",
              "      <th>4</th>\n",
              "      <td>2022-07-18 03:04:00+00:00</td>\n",
              "      <td>@vachhan18 હર હર મહાદેવ</td>\n",
              "    </tr>\n",
              "    <tr>\n",
              "      <th>5</th>\n",
              "      <td>2022-07-18 03:04:00+00:00</td>\n",
              "      <td>@A_suryavanshi_ 🙏</td>\n",
              "    </tr>\n",
              "    <tr>\n",
              "      <th>6</th>\n",
              "      <td>2022-07-18 03:04:00+00:00</td>\n",
              "      <td>Spiritual Magazine \\nRishi Prasad \\nDivya Anub...</td>\n",
              "    </tr>\n",
              "    <tr>\n",
              "      <th>7</th>\n",
              "      <td>2022-07-18 03:04:00+00:00</td>\n",
              "      <td>@GopalGa49464745 ये वरदी पहन कर कट्टरपन की तकर...</td>\n",
              "    </tr>\n",
              "    <tr>\n",
              "      <th>8</th>\n",
              "      <td>2022-07-18 03:04:00+00:00</td>\n",
              "      <td>https://t.co/eA0nudWC9L https://t.co/vr0Vqd7hQr</td>\n",
              "    </tr>\n",
              "    <tr>\n",
              "      <th>9</th>\n",
              "      <td>2022-07-18 03:04:00+00:00</td>\n",
              "      <td>🤣🤣🤣 https://t.co/pHskvNXdOm</td>\n",
              "    </tr>\n",
              "    <tr>\n",
              "      <th>10</th>\n",
              "      <td>2022-07-18 03:04:00+00:00</td>\n",
              "      <td>@GopichandP_MLC @Dev_Fadnavis पाहुणे आपण सलाचे...</td>\n",
              "    </tr>\n",
              "    <tr>\n",
              "      <th>11</th>\n",
              "      <td>2022-07-18 03:04:00+00:00</td>\n",
              "      <td>The latest #CLOUD Update! https://t.co/KCweEye...</td>\n",
              "    </tr>\n",
              "    <tr>\n",
              "      <th>12</th>\n",
              "      <td>2022-07-18 03:04:00+00:00</td>\n",
              "      <td>@BitcoinLebron 🥰🤞</td>\n",
              "    </tr>\n",
              "    <tr>\n",
              "      <th>13</th>\n",
              "      <td>2022-07-18 03:04:00+00:00</td>\n",
              "      <td>https://t.co/QNSCVfFxa8</td>\n",
              "    </tr>\n",
              "    <tr>\n",
              "      <th>14</th>\n",
              "      <td>2022-07-18 03:03:59+00:00</td>\n",
              "      <td>@nazir28 @PawanKalyan చేగువేరా గెటప్ బాగుటుంది...</td>\n",
              "    </tr>\n",
              "    <tr>\n",
              "      <th>15</th>\n",
              "      <td>2022-07-18 03:03:59+00:00</td>\n",
              "      <td>Wishing 4 time @BJP4Karnataka Legislator, @BJP...</td>\n",
              "    </tr>\n",
              "    <tr>\n",
              "      <th>16</th>\n",
              "      <td>2022-07-18 03:03:59+00:00</td>\n",
              "      <td>Rishi Prasaad a Spiritual Magazine which is pu...</td>\n",
              "    </tr>\n",
              "    <tr>\n",
              "      <th>17</th>\n",
              "      <td>2022-07-18 03:03:59+00:00</td>\n",
              "      <td>@Rish_quotes महादेव</td>\n",
              "    </tr>\n",
              "    <tr>\n",
              "      <th>18</th>\n",
              "      <td>2022-07-18 03:03:58+00:00</td>\n",
              "      <td>@hypernationalst @psantosh_44 हर हर महादेव 🙏🏻🚩</td>\n",
              "    </tr>\n",
              "    <tr>\n",
              "      <th>19</th>\n",
              "      <td>2022-07-18 03:03:58+00:00</td>\n",
              "      <td>@ANINewsUP @ANI हर हर महादेव</td>\n",
              "    </tr>\n",
              "    <tr>\n",
              "      <th>20</th>\n",
              "      <td>2022-07-18 03:03:58+00:00</td>\n",
              "      <td>\"માણસના સારા જીવનનો રસ્તો સારા પુસ્તકોથી થઈને ...</td>\n",
              "    </tr>\n",
              "    <tr>\n",
              "      <th>21</th>\n",
              "      <td>2022-07-18 03:03:58+00:00</td>\n",
              "      <td>koi bata sakta hai tweeter pe username kaise c...</td>\n",
              "    </tr>\n",
              "    <tr>\n",
              "      <th>22</th>\n",
              "      <td>2022-07-18 03:03:58+00:00</td>\n",
              "      <td>शाहू महाराज यांचे विचार....\\n#महाराष्ट्र https...</td>\n",
              "    </tr>\n",
              "    <tr>\n",
              "      <th>23</th>\n",
              "      <td>2022-07-18 03:03:58+00:00</td>\n",
              "      <td>@Nk992739 @begu_manoj @ShubmanGill Om Namo Shivay</td>\n",
              "    </tr>\n",
              "    <tr>\n",
              "      <th>24</th>\n",
              "      <td>2022-07-18 03:03:58+00:00</td>\n",
              "      <td>@skjnition Why it's bad...... If it would get ...</td>\n",
              "    </tr>\n",
              "    <tr>\n",
              "      <th>25</th>\n",
              "      <td>2022-07-18 03:03:58+00:00</td>\n",
              "      <td>@isro @AgnikulCosmos https://t.co/5IDVG4aB7l</td>\n",
              "    </tr>\n",
              "    <tr>\n",
              "      <th>26</th>\n",
              "      <td>2022-07-18 03:03:58+00:00</td>\n",
              "      <td>#WPT Investing Corp ( $WPT/WETH)\\n\\nPrice: $ 0...</td>\n",
              "    </tr>\n",
              "    <tr>\n",
              "      <th>27</th>\n",
              "      <td>2022-07-18 03:03:57+00:00</td>\n",
              "      <td>@nishikant_dubey @AshwiniVaishnaw आजादी के 75 ...</td>\n",
              "    </tr>\n",
              "    <tr>\n",
              "      <th>28</th>\n",
              "      <td>2022-07-18 03:03:57+00:00</td>\n",
              "      <td>@that_anokha_boy https://t.co/GoOW4VE42G</td>\n",
              "    </tr>\n",
              "    <tr>\n",
              "      <th>29</th>\n",
              "      <td>2022-07-18 03:03:57+00:00</td>\n",
              "      <td>Congratulations 🎉🎉👏👏 https://t.co/9Eeiee5yxV</td>\n",
              "    </tr>\n",
              "    <tr>\n",
              "      <th>30</th>\n",
              "      <td>2022-07-18 03:03:57+00:00</td>\n",
              "      <td>Spiritual Magazine \\nRishi Prasad \\nDivya Anub...</td>\n",
              "    </tr>\n",
              "    <tr>\n",
              "      <th>31</th>\n",
              "      <td>2022-07-18 03:03:57+00:00</td>\n",
              "      <td>And @AkshayMarathe, happy to continue the conv...</td>\n",
              "    </tr>\n",
              "    <tr>\n",
              "      <th>32</th>\n",
              "      <td>2022-07-18 03:03:57+00:00</td>\n",
              "      <td>@agor1312 @bhaskarsingh715 ॐ नमः शिवायः🕉️🕉️🕉️🕉...</td>\n",
              "    </tr>\n",
              "    <tr>\n",
              "      <th>33</th>\n",
              "      <td>2022-07-18 03:03:57+00:00</td>\n",
              "      <td>https://t.co/FAGNfrjnJp</td>\n",
              "    </tr>\n",
              "    <tr>\n",
              "      <th>34</th>\n",
              "      <td>2022-07-18 03:03:56+00:00</td>\n",
              "      <td>@afreen_f_khan Halala halala</td>\n",
              "    </tr>\n",
              "    <tr>\n",
              "      <th>35</th>\n",
              "      <td>2022-07-18 03:03:56+00:00</td>\n",
              "      <td>@chauhanaug08 @BJPSP9 जय श्री कृष्ण</td>\n",
              "    </tr>\n",
              "    <tr>\n",
              "      <th>36</th>\n",
              "      <td>2022-07-18 03:03:56+00:00</td>\n",
              "      <td>👑 Free NFT airdrop 👑\\n\\n✅ Drop your $ETH addre...</td>\n",
              "    </tr>\n",
              "    <tr>\n",
              "      <th>37</th>\n",
              "      <td>2022-07-18 03:03:56+00:00</td>\n",
              "      <td>Is this the most glorious typo or what https:/...</td>\n",
              "    </tr>\n",
              "    <tr>\n",
              "      <th>38</th>\n",
              "      <td>2022-07-18 03:03:56+00:00</td>\n",
              "      <td>#ऋषिप्रसाद_ज्ञानामृत\\n\"जिसके लिए ब्रह्म स्वयं ...</td>\n",
              "    </tr>\n",
              "    <tr>\n",
              "      <th>39</th>\n",
              "      <td>2022-07-18 03:03:56+00:00</td>\n",
              "      <td>Hi, always we have two ways to solve a problem...</td>\n",
              "    </tr>\n",
              "    <tr>\n",
              "      <th>40</th>\n",
              "      <td>2022-07-18 03:03:56+00:00</td>\n",
              "      <td>@AshramGaushala @RishiPrasadOrg @RishiDarshan ...</td>\n",
              "    </tr>\n",
              "    <tr>\n",
              "      <th>41</th>\n",
              "      <td>2022-07-18 03:03:56+00:00</td>\n",
              "      <td>Look at this... 👀 https://t.co/QgKoiKrKuP nice...</td>\n",
              "    </tr>\n",
              "    <tr>\n",
              "      <th>42</th>\n",
              "      <td>2022-07-18 03:03:56+00:00</td>\n",
              "      <td>Agar rahoge to shayad ho jayegi https://t.co/e...</td>\n",
              "    </tr>\n",
              "    <tr>\n",
              "      <th>43</th>\n",
              "      <td>2022-07-18 03:03:56+00:00</td>\n",
              "      <td>Sawan Somvar ( Lord Shiva ) \\nsawan somvar ki ...</td>\n",
              "    </tr>\n",
              "    <tr>\n",
              "      <th>44</th>\n",
              "      <td>2022-07-18 03:03:56+00:00</td>\n",
              "      <td>\"Let them eat their heart out\" he said of the ...</td>\n",
              "    </tr>\n",
              "    <tr>\n",
              "      <th>45</th>\n",
              "      <td>2022-07-18 03:03:55+00:00</td>\n",
              "      <td>@INPettyOfficer @indiannavy RIP... may God giv...</td>\n",
              "    </tr>\n",
              "    <tr>\n",
              "      <th>46</th>\n",
              "      <td>2022-07-18 03:03:55+00:00</td>\n",
              "      <td>@Deepakswami2571 @rajiv_dmk @SeemanOfficial எங...</td>\n",
              "    </tr>\n",
              "    <tr>\n",
              "      <th>47</th>\n",
              "      <td>2022-07-18 03:03:55+00:00</td>\n",
              "      <td>@NurAlam70221273 Hi Alam, we are sorry to know...</td>\n",
              "    </tr>\n",
              "    <tr>\n",
              "      <th>48</th>\n",
              "      <td>2022-07-18 03:03:55+00:00</td>\n",
              "      <td>Omg this is different not that who sold PNB.. ...</td>\n",
              "    </tr>\n",
              "    <tr>\n",
              "      <th>49</th>\n",
              "      <td>2022-07-18 03:03:55+00:00</td>\n",
              "      <td>@raziasworld @DavidMariposa1 @Kri_Te_Acharya @...</td>\n",
              "    </tr>\n",
              "  </tbody>\n",
              "</table>\n",
              "</div>\n",
              "      <button class=\"colab-df-convert\" onclick=\"convertToInteractive('df-5940bf33-e7c9-4708-8170-0bf8783b1dbf')\"\n",
              "              title=\"Convert this dataframe to an interactive table.\"\n",
              "              style=\"display:none;\">\n",
              "        \n",
              "  <svg xmlns=\"http://www.w3.org/2000/svg\" height=\"24px\"viewBox=\"0 0 24 24\"\n",
              "       width=\"24px\">\n",
              "    <path d=\"M0 0h24v24H0V0z\" fill=\"none\"/>\n",
              "    <path d=\"M18.56 5.44l.94 2.06.94-2.06 2.06-.94-2.06-.94-.94-2.06-.94 2.06-2.06.94zm-11 1L8.5 8.5l.94-2.06 2.06-.94-2.06-.94L8.5 2.5l-.94 2.06-2.06.94zm10 10l.94 2.06.94-2.06 2.06-.94-2.06-.94-.94-2.06-.94 2.06-2.06.94z\"/><path d=\"M17.41 7.96l-1.37-1.37c-.4-.4-.92-.59-1.43-.59-.52 0-1.04.2-1.43.59L10.3 9.45l-7.72 7.72c-.78.78-.78 2.05 0 2.83L4 21.41c.39.39.9.59 1.41.59.51 0 1.02-.2 1.41-.59l7.78-7.78 2.81-2.81c.8-.78.8-2.07 0-2.86zM5.41 20L4 18.59l7.72-7.72 1.47 1.35L5.41 20z\"/>\n",
              "  </svg>\n",
              "      </button>\n",
              "      \n",
              "  <style>\n",
              "    .colab-df-container {\n",
              "      display:flex;\n",
              "      flex-wrap:wrap;\n",
              "      gap: 12px;\n",
              "    }\n",
              "\n",
              "    .colab-df-convert {\n",
              "      background-color: #E8F0FE;\n",
              "      border: none;\n",
              "      border-radius: 50%;\n",
              "      cursor: pointer;\n",
              "      display: none;\n",
              "      fill: #1967D2;\n",
              "      height: 32px;\n",
              "      padding: 0 0 0 0;\n",
              "      width: 32px;\n",
              "    }\n",
              "\n",
              "    .colab-df-convert:hover {\n",
              "      background-color: #E2EBFA;\n",
              "      box-shadow: 0px 1px 2px rgba(60, 64, 67, 0.3), 0px 1px 3px 1px rgba(60, 64, 67, 0.15);\n",
              "      fill: #174EA6;\n",
              "    }\n",
              "\n",
              "    [theme=dark] .colab-df-convert {\n",
              "      background-color: #3B4455;\n",
              "      fill: #D2E3FC;\n",
              "    }\n",
              "\n",
              "    [theme=dark] .colab-df-convert:hover {\n",
              "      background-color: #434B5C;\n",
              "      box-shadow: 0px 1px 3px 1px rgba(0, 0, 0, 0.15);\n",
              "      filter: drop-shadow(0px 1px 2px rgba(0, 0, 0, 0.3));\n",
              "      fill: #FFFFFF;\n",
              "    }\n",
              "  </style>\n",
              "\n",
              "      <script>\n",
              "        const buttonEl =\n",
              "          document.querySelector('#df-5940bf33-e7c9-4708-8170-0bf8783b1dbf button.colab-df-convert');\n",
              "        buttonEl.style.display =\n",
              "          google.colab.kernel.accessAllowed ? 'block' : 'none';\n",
              "\n",
              "        async function convertToInteractive(key) {\n",
              "          const element = document.querySelector('#df-5940bf33-e7c9-4708-8170-0bf8783b1dbf');\n",
              "          const dataTable =\n",
              "            await google.colab.kernel.invokeFunction('convertToInteractive',\n",
              "                                                     [key], {});\n",
              "          if (!dataTable) return;\n",
              "\n",
              "          const docLinkHtml = 'Like what you see? Visit the ' +\n",
              "            '<a target=\"_blank\" href=https://colab.research.google.com/notebooks/data_table.ipynb>data table notebook</a>'\n",
              "            + ' to learn more about interactive tables.';\n",
              "          element.innerHTML = '';\n",
              "          dataTable['output_type'] = 'display_data';\n",
              "          await google.colab.output.renderOutput(dataTable, element);\n",
              "          const docLink = document.createElement('div');\n",
              "          docLink.innerHTML = docLinkHtml;\n",
              "          element.appendChild(docLink);\n",
              "        }\n",
              "      </script>\n",
              "    </div>\n",
              "  </div>\n",
              "  "
            ]
          },
          "metadata": {},
          "execution_count": 7
        }
      ]
    },
    {
      "cell_type": "code",
      "source": [
        "df_coord.to_csv('t3_data.csv')"
      ],
      "metadata": {
        "id": "vpcp1oe4F5Tp"
      },
      "execution_count": 8,
      "outputs": []
    },
    {
      "cell_type": "code",
      "source": [
        "for index, row in df_coord.iterrows():\n",
        "    content = row[\"content\"]\n",
        "    content = demoji.replace(content,repl='')\n",
        "    df_coord[\"content\"][index] = content"
      ],
      "metadata": {
        "colab": {
          "base_uri": "https://localhost:8080/"
        },
        "id": "5xXTtXqOF7jG",
        "outputId": "4f1ae697-fe28-47b2-c67c-cb02fa646092"
      },
      "execution_count": 9,
      "outputs": [
        {
          "output_type": "stream",
          "name": "stderr",
          "text": [
            "/usr/local/lib/python3.7/dist-packages/ipykernel_launcher.py:4: SettingWithCopyWarning: \n",
            "A value is trying to be set on a copy of a slice from a DataFrame\n",
            "\n",
            "See the caveats in the documentation: https://pandas.pydata.org/pandas-docs/stable/user_guide/indexing.html#returning-a-view-versus-a-copy\n",
            "  after removing the cwd from sys.path.\n"
          ]
        }
      ]
    },
    {
      "cell_type": "code",
      "source": [
        "df_coord"
      ],
      "metadata": {
        "colab": {
          "base_uri": "https://localhost:8080/",
          "height": 1000
        },
        "id": "_hXWTh5wF9Hv",
        "outputId": "02383d15-bd30-411b-f142-147ae45c8096"
      },
      "execution_count": 10,
      "outputs": [
        {
          "output_type": "execute_result",
          "data": {
            "text/plain": [
              "                        date  \\\n",
              "0  2022-07-18 03:04:01+00:00   \n",
              "1  2022-07-18 03:04:01+00:00   \n",
              "2  2022-07-18 03:04:00+00:00   \n",
              "3  2022-07-18 03:04:00+00:00   \n",
              "4  2022-07-18 03:04:00+00:00   \n",
              "5  2022-07-18 03:04:00+00:00   \n",
              "6  2022-07-18 03:04:00+00:00   \n",
              "7  2022-07-18 03:04:00+00:00   \n",
              "8  2022-07-18 03:04:00+00:00   \n",
              "9  2022-07-18 03:04:00+00:00   \n",
              "10 2022-07-18 03:04:00+00:00   \n",
              "11 2022-07-18 03:04:00+00:00   \n",
              "12 2022-07-18 03:04:00+00:00   \n",
              "13 2022-07-18 03:04:00+00:00   \n",
              "14 2022-07-18 03:03:59+00:00   \n",
              "15 2022-07-18 03:03:59+00:00   \n",
              "16 2022-07-18 03:03:59+00:00   \n",
              "17 2022-07-18 03:03:59+00:00   \n",
              "18 2022-07-18 03:03:58+00:00   \n",
              "19 2022-07-18 03:03:58+00:00   \n",
              "20 2022-07-18 03:03:58+00:00   \n",
              "21 2022-07-18 03:03:58+00:00   \n",
              "22 2022-07-18 03:03:58+00:00   \n",
              "23 2022-07-18 03:03:58+00:00   \n",
              "24 2022-07-18 03:03:58+00:00   \n",
              "25 2022-07-18 03:03:58+00:00   \n",
              "26 2022-07-18 03:03:58+00:00   \n",
              "27 2022-07-18 03:03:57+00:00   \n",
              "28 2022-07-18 03:03:57+00:00   \n",
              "29 2022-07-18 03:03:57+00:00   \n",
              "30 2022-07-18 03:03:57+00:00   \n",
              "31 2022-07-18 03:03:57+00:00   \n",
              "32 2022-07-18 03:03:57+00:00   \n",
              "33 2022-07-18 03:03:57+00:00   \n",
              "34 2022-07-18 03:03:56+00:00   \n",
              "35 2022-07-18 03:03:56+00:00   \n",
              "36 2022-07-18 03:03:56+00:00   \n",
              "37 2022-07-18 03:03:56+00:00   \n",
              "38 2022-07-18 03:03:56+00:00   \n",
              "39 2022-07-18 03:03:56+00:00   \n",
              "40 2022-07-18 03:03:56+00:00   \n",
              "41 2022-07-18 03:03:56+00:00   \n",
              "42 2022-07-18 03:03:56+00:00   \n",
              "43 2022-07-18 03:03:56+00:00   \n",
              "44 2022-07-18 03:03:56+00:00   \n",
              "45 2022-07-18 03:03:55+00:00   \n",
              "46 2022-07-18 03:03:55+00:00   \n",
              "47 2022-07-18 03:03:55+00:00   \n",
              "48 2022-07-18 03:03:55+00:00   \n",
              "49 2022-07-18 03:03:55+00:00   \n",
              "\n",
              "                                              content  \n",
              "0         @gowda7709 @codentrade @abidsensibull Like?  \n",
              "1                        @btscredit What's happening?  \n",
              "2   You know that you are a superhero when you can...  \n",
              "3                       @bhaskarsingh715 @pandit_S97   \n",
              "4                             @vachhan18 હર હર મહાદેવ  \n",
              "5                                    @A_suryavanshi_   \n",
              "6   Spiritual Magazine \\nRishi Prasad \\nDivya Anub...  \n",
              "7   @GopalGa49464745 ये वरदी पहन कर कट्टरपन की तकर...  \n",
              "8     https://t.co/eA0nudWC9L https://t.co/vr0Vqd7hQr  \n",
              "9                             https://t.co/pHskvNXdOm  \n",
              "10  @GopichandP_MLC @Dev_Fadnavis पाहुणे आपण सलाचे...  \n",
              "11  The latest #CLOUD Update! https://t.co/KCweEye...  \n",
              "12                                    @BitcoinLebron   \n",
              "13                            https://t.co/QNSCVfFxa8  \n",
              "14  @nazir28 @PawanKalyan చేగువేరా గెటప్ బాగుటుంది...  \n",
              "15  Wishing 4 time @BJP4Karnataka Legislator, @BJP...  \n",
              "16  Rishi Prasaad a Spiritual Magazine which is pu...  \n",
              "17                                @Rish_quotes महादेव  \n",
              "18        @hypernationalst @psantosh_44 हर हर महादेव   \n",
              "19                       @ANINewsUP @ANI हर हर महादेव  \n",
              "20  \"માણસના સારા જીવનનો રસ્તો સારા પુસ્તકોથી થઈને ...  \n",
              "21  koi bata sakta hai tweeter pe username kaise c...  \n",
              "22  शाहू महाराज यांचे विचार....\\n#महाराष्ट्र https...  \n",
              "23  @Nk992739 @begu_manoj @ShubmanGill Om Namo Shivay  \n",
              "24  @skjnition Why it's bad...... If it would get ...  \n",
              "25       @isro @AgnikulCosmos https://t.co/5IDVG4aB7l  \n",
              "26  #WPT Investing Corp ( $WPT/WETH)\\n\\nPrice: $ 0...  \n",
              "27  @nishikant_dubey @AshwiniVaishnaw आजादी के 75 ...  \n",
              "28           @that_anokha_boy https://t.co/GoOW4VE42G  \n",
              "29           Congratulations  https://t.co/9Eeiee5yxV  \n",
              "30  Spiritual Magazine \\nRishi Prasad \\nDivya Anub...  \n",
              "31  And @AkshayMarathe, happy to continue the conv...  \n",
              "32  @agor1312 @bhaskarsingh715 ॐ नमः शिवायःॐ नमो श...  \n",
              "33                            https://t.co/FAGNfrjnJp  \n",
              "34                       @afreen_f_khan Halala halala  \n",
              "35                @chauhanaug08 @BJPSP9 जय श्री कृष्ण  \n",
              "36   Free NFT airdrop \\n\\n Drop your $ETH address ...  \n",
              "37  Is this the most glorious typo or what https:/...  \n",
              "38  #ऋषिप्रसाद_ज्ञानामृत\\n\"जिसके लिए ब्रह्म स्वयं ...  \n",
              "39  Hi, always we have two ways to solve a problem...  \n",
              "40  @AshramGaushala @RishiPrasadOrg @RishiDarshan ...  \n",
              "41  Look at this...  https://t.co/QgKoiKrKuP nice ...  \n",
              "42  Agar rahoge to shayad ho jayegi https://t.co/e...  \n",
              "43  Sawan Somvar ( Lord Shiva ) \\nsawan somvar ki ...  \n",
              "44  \"Let them eat their heart out\" he said of the ...  \n",
              "45  @INPettyOfficer @indiannavy RIP... may God giv...  \n",
              "46  @Deepakswami2571 @rajiv_dmk @SeemanOfficial எங...  \n",
              "47  @NurAlam70221273 Hi Alam, we are sorry to know...  \n",
              "48  Omg this is different not that who sold PNB.. ...  \n",
              "49  @raziasworld @DavidMariposa1 @Kri_Te_Acharya @...  "
            ],
            "text/html": [
              "\n",
              "  <div id=\"df-99f9037c-eaa0-41b1-b93f-12ccbe517f2b\">\n",
              "    <div class=\"colab-df-container\">\n",
              "      <div>\n",
              "<style scoped>\n",
              "    .dataframe tbody tr th:only-of-type {\n",
              "        vertical-align: middle;\n",
              "    }\n",
              "\n",
              "    .dataframe tbody tr th {\n",
              "        vertical-align: top;\n",
              "    }\n",
              "\n",
              "    .dataframe thead th {\n",
              "        text-align: right;\n",
              "    }\n",
              "</style>\n",
              "<table border=\"1\" class=\"dataframe\">\n",
              "  <thead>\n",
              "    <tr style=\"text-align: right;\">\n",
              "      <th></th>\n",
              "      <th>date</th>\n",
              "      <th>content</th>\n",
              "    </tr>\n",
              "  </thead>\n",
              "  <tbody>\n",
              "    <tr>\n",
              "      <th>0</th>\n",
              "      <td>2022-07-18 03:04:01+00:00</td>\n",
              "      <td>@gowda7709 @codentrade @abidsensibull Like?</td>\n",
              "    </tr>\n",
              "    <tr>\n",
              "      <th>1</th>\n",
              "      <td>2022-07-18 03:04:01+00:00</td>\n",
              "      <td>@btscredit What's happening?</td>\n",
              "    </tr>\n",
              "    <tr>\n",
              "      <th>2</th>\n",
              "      <td>2022-07-18 03:04:00+00:00</td>\n",
              "      <td>You know that you are a superhero when you can...</td>\n",
              "    </tr>\n",
              "    <tr>\n",
              "      <th>3</th>\n",
              "      <td>2022-07-18 03:04:00+00:00</td>\n",
              "      <td>@bhaskarsingh715 @pandit_S97</td>\n",
              "    </tr>\n",
              "    <tr>\n",
              "      <th>4</th>\n",
              "      <td>2022-07-18 03:04:00+00:00</td>\n",
              "      <td>@vachhan18 હર હર મહાદેવ</td>\n",
              "    </tr>\n",
              "    <tr>\n",
              "      <th>5</th>\n",
              "      <td>2022-07-18 03:04:00+00:00</td>\n",
              "      <td>@A_suryavanshi_</td>\n",
              "    </tr>\n",
              "    <tr>\n",
              "      <th>6</th>\n",
              "      <td>2022-07-18 03:04:00+00:00</td>\n",
              "      <td>Spiritual Magazine \\nRishi Prasad \\nDivya Anub...</td>\n",
              "    </tr>\n",
              "    <tr>\n",
              "      <th>7</th>\n",
              "      <td>2022-07-18 03:04:00+00:00</td>\n",
              "      <td>@GopalGa49464745 ये वरदी पहन कर कट्टरपन की तकर...</td>\n",
              "    </tr>\n",
              "    <tr>\n",
              "      <th>8</th>\n",
              "      <td>2022-07-18 03:04:00+00:00</td>\n",
              "      <td>https://t.co/eA0nudWC9L https://t.co/vr0Vqd7hQr</td>\n",
              "    </tr>\n",
              "    <tr>\n",
              "      <th>9</th>\n",
              "      <td>2022-07-18 03:04:00+00:00</td>\n",
              "      <td>https://t.co/pHskvNXdOm</td>\n",
              "    </tr>\n",
              "    <tr>\n",
              "      <th>10</th>\n",
              "      <td>2022-07-18 03:04:00+00:00</td>\n",
              "      <td>@GopichandP_MLC @Dev_Fadnavis पाहुणे आपण सलाचे...</td>\n",
              "    </tr>\n",
              "    <tr>\n",
              "      <th>11</th>\n",
              "      <td>2022-07-18 03:04:00+00:00</td>\n",
              "      <td>The latest #CLOUD Update! https://t.co/KCweEye...</td>\n",
              "    </tr>\n",
              "    <tr>\n",
              "      <th>12</th>\n",
              "      <td>2022-07-18 03:04:00+00:00</td>\n",
              "      <td>@BitcoinLebron</td>\n",
              "    </tr>\n",
              "    <tr>\n",
              "      <th>13</th>\n",
              "      <td>2022-07-18 03:04:00+00:00</td>\n",
              "      <td>https://t.co/QNSCVfFxa8</td>\n",
              "    </tr>\n",
              "    <tr>\n",
              "      <th>14</th>\n",
              "      <td>2022-07-18 03:03:59+00:00</td>\n",
              "      <td>@nazir28 @PawanKalyan చేగువేరా గెటప్ బాగుటుంది...</td>\n",
              "    </tr>\n",
              "    <tr>\n",
              "      <th>15</th>\n",
              "      <td>2022-07-18 03:03:59+00:00</td>\n",
              "      <td>Wishing 4 time @BJP4Karnataka Legislator, @BJP...</td>\n",
              "    </tr>\n",
              "    <tr>\n",
              "      <th>16</th>\n",
              "      <td>2022-07-18 03:03:59+00:00</td>\n",
              "      <td>Rishi Prasaad a Spiritual Magazine which is pu...</td>\n",
              "    </tr>\n",
              "    <tr>\n",
              "      <th>17</th>\n",
              "      <td>2022-07-18 03:03:59+00:00</td>\n",
              "      <td>@Rish_quotes महादेव</td>\n",
              "    </tr>\n",
              "    <tr>\n",
              "      <th>18</th>\n",
              "      <td>2022-07-18 03:03:58+00:00</td>\n",
              "      <td>@hypernationalst @psantosh_44 हर हर महादेव</td>\n",
              "    </tr>\n",
              "    <tr>\n",
              "      <th>19</th>\n",
              "      <td>2022-07-18 03:03:58+00:00</td>\n",
              "      <td>@ANINewsUP @ANI हर हर महादेव</td>\n",
              "    </tr>\n",
              "    <tr>\n",
              "      <th>20</th>\n",
              "      <td>2022-07-18 03:03:58+00:00</td>\n",
              "      <td>\"માણસના સારા જીવનનો રસ્તો સારા પુસ્તકોથી થઈને ...</td>\n",
              "    </tr>\n",
              "    <tr>\n",
              "      <th>21</th>\n",
              "      <td>2022-07-18 03:03:58+00:00</td>\n",
              "      <td>koi bata sakta hai tweeter pe username kaise c...</td>\n",
              "    </tr>\n",
              "    <tr>\n",
              "      <th>22</th>\n",
              "      <td>2022-07-18 03:03:58+00:00</td>\n",
              "      <td>शाहू महाराज यांचे विचार....\\n#महाराष्ट्र https...</td>\n",
              "    </tr>\n",
              "    <tr>\n",
              "      <th>23</th>\n",
              "      <td>2022-07-18 03:03:58+00:00</td>\n",
              "      <td>@Nk992739 @begu_manoj @ShubmanGill Om Namo Shivay</td>\n",
              "    </tr>\n",
              "    <tr>\n",
              "      <th>24</th>\n",
              "      <td>2022-07-18 03:03:58+00:00</td>\n",
              "      <td>@skjnition Why it's bad...... If it would get ...</td>\n",
              "    </tr>\n",
              "    <tr>\n",
              "      <th>25</th>\n",
              "      <td>2022-07-18 03:03:58+00:00</td>\n",
              "      <td>@isro @AgnikulCosmos https://t.co/5IDVG4aB7l</td>\n",
              "    </tr>\n",
              "    <tr>\n",
              "      <th>26</th>\n",
              "      <td>2022-07-18 03:03:58+00:00</td>\n",
              "      <td>#WPT Investing Corp ( $WPT/WETH)\\n\\nPrice: $ 0...</td>\n",
              "    </tr>\n",
              "    <tr>\n",
              "      <th>27</th>\n",
              "      <td>2022-07-18 03:03:57+00:00</td>\n",
              "      <td>@nishikant_dubey @AshwiniVaishnaw आजादी के 75 ...</td>\n",
              "    </tr>\n",
              "    <tr>\n",
              "      <th>28</th>\n",
              "      <td>2022-07-18 03:03:57+00:00</td>\n",
              "      <td>@that_anokha_boy https://t.co/GoOW4VE42G</td>\n",
              "    </tr>\n",
              "    <tr>\n",
              "      <th>29</th>\n",
              "      <td>2022-07-18 03:03:57+00:00</td>\n",
              "      <td>Congratulations  https://t.co/9Eeiee5yxV</td>\n",
              "    </tr>\n",
              "    <tr>\n",
              "      <th>30</th>\n",
              "      <td>2022-07-18 03:03:57+00:00</td>\n",
              "      <td>Spiritual Magazine \\nRishi Prasad \\nDivya Anub...</td>\n",
              "    </tr>\n",
              "    <tr>\n",
              "      <th>31</th>\n",
              "      <td>2022-07-18 03:03:57+00:00</td>\n",
              "      <td>And @AkshayMarathe, happy to continue the conv...</td>\n",
              "    </tr>\n",
              "    <tr>\n",
              "      <th>32</th>\n",
              "      <td>2022-07-18 03:03:57+00:00</td>\n",
              "      <td>@agor1312 @bhaskarsingh715 ॐ नमः शिवायःॐ नमो श...</td>\n",
              "    </tr>\n",
              "    <tr>\n",
              "      <th>33</th>\n",
              "      <td>2022-07-18 03:03:57+00:00</td>\n",
              "      <td>https://t.co/FAGNfrjnJp</td>\n",
              "    </tr>\n",
              "    <tr>\n",
              "      <th>34</th>\n",
              "      <td>2022-07-18 03:03:56+00:00</td>\n",
              "      <td>@afreen_f_khan Halala halala</td>\n",
              "    </tr>\n",
              "    <tr>\n",
              "      <th>35</th>\n",
              "      <td>2022-07-18 03:03:56+00:00</td>\n",
              "      <td>@chauhanaug08 @BJPSP9 जय श्री कृष्ण</td>\n",
              "    </tr>\n",
              "    <tr>\n",
              "      <th>36</th>\n",
              "      <td>2022-07-18 03:03:56+00:00</td>\n",
              "      <td>Free NFT airdrop \\n\\n Drop your $ETH address ...</td>\n",
              "    </tr>\n",
              "    <tr>\n",
              "      <th>37</th>\n",
              "      <td>2022-07-18 03:03:56+00:00</td>\n",
              "      <td>Is this the most glorious typo or what https:/...</td>\n",
              "    </tr>\n",
              "    <tr>\n",
              "      <th>38</th>\n",
              "      <td>2022-07-18 03:03:56+00:00</td>\n",
              "      <td>#ऋषिप्रसाद_ज्ञानामृत\\n\"जिसके लिए ब्रह्म स्वयं ...</td>\n",
              "    </tr>\n",
              "    <tr>\n",
              "      <th>39</th>\n",
              "      <td>2022-07-18 03:03:56+00:00</td>\n",
              "      <td>Hi, always we have two ways to solve a problem...</td>\n",
              "    </tr>\n",
              "    <tr>\n",
              "      <th>40</th>\n",
              "      <td>2022-07-18 03:03:56+00:00</td>\n",
              "      <td>@AshramGaushala @RishiPrasadOrg @RishiDarshan ...</td>\n",
              "    </tr>\n",
              "    <tr>\n",
              "      <th>41</th>\n",
              "      <td>2022-07-18 03:03:56+00:00</td>\n",
              "      <td>Look at this...  https://t.co/QgKoiKrKuP nice ...</td>\n",
              "    </tr>\n",
              "    <tr>\n",
              "      <th>42</th>\n",
              "      <td>2022-07-18 03:03:56+00:00</td>\n",
              "      <td>Agar rahoge to shayad ho jayegi https://t.co/e...</td>\n",
              "    </tr>\n",
              "    <tr>\n",
              "      <th>43</th>\n",
              "      <td>2022-07-18 03:03:56+00:00</td>\n",
              "      <td>Sawan Somvar ( Lord Shiva ) \\nsawan somvar ki ...</td>\n",
              "    </tr>\n",
              "    <tr>\n",
              "      <th>44</th>\n",
              "      <td>2022-07-18 03:03:56+00:00</td>\n",
              "      <td>\"Let them eat their heart out\" he said of the ...</td>\n",
              "    </tr>\n",
              "    <tr>\n",
              "      <th>45</th>\n",
              "      <td>2022-07-18 03:03:55+00:00</td>\n",
              "      <td>@INPettyOfficer @indiannavy RIP... may God giv...</td>\n",
              "    </tr>\n",
              "    <tr>\n",
              "      <th>46</th>\n",
              "      <td>2022-07-18 03:03:55+00:00</td>\n",
              "      <td>@Deepakswami2571 @rajiv_dmk @SeemanOfficial எங...</td>\n",
              "    </tr>\n",
              "    <tr>\n",
              "      <th>47</th>\n",
              "      <td>2022-07-18 03:03:55+00:00</td>\n",
              "      <td>@NurAlam70221273 Hi Alam, we are sorry to know...</td>\n",
              "    </tr>\n",
              "    <tr>\n",
              "      <th>48</th>\n",
              "      <td>2022-07-18 03:03:55+00:00</td>\n",
              "      <td>Omg this is different not that who sold PNB.. ...</td>\n",
              "    </tr>\n",
              "    <tr>\n",
              "      <th>49</th>\n",
              "      <td>2022-07-18 03:03:55+00:00</td>\n",
              "      <td>@raziasworld @DavidMariposa1 @Kri_Te_Acharya @...</td>\n",
              "    </tr>\n",
              "  </tbody>\n",
              "</table>\n",
              "</div>\n",
              "      <button class=\"colab-df-convert\" onclick=\"convertToInteractive('df-99f9037c-eaa0-41b1-b93f-12ccbe517f2b')\"\n",
              "              title=\"Convert this dataframe to an interactive table.\"\n",
              "              style=\"display:none;\">\n",
              "        \n",
              "  <svg xmlns=\"http://www.w3.org/2000/svg\" height=\"24px\"viewBox=\"0 0 24 24\"\n",
              "       width=\"24px\">\n",
              "    <path d=\"M0 0h24v24H0V0z\" fill=\"none\"/>\n",
              "    <path d=\"M18.56 5.44l.94 2.06.94-2.06 2.06-.94-2.06-.94-.94-2.06-.94 2.06-2.06.94zm-11 1L8.5 8.5l.94-2.06 2.06-.94-2.06-.94L8.5 2.5l-.94 2.06-2.06.94zm10 10l.94 2.06.94-2.06 2.06-.94-2.06-.94-.94-2.06-.94 2.06-2.06.94z\"/><path d=\"M17.41 7.96l-1.37-1.37c-.4-.4-.92-.59-1.43-.59-.52 0-1.04.2-1.43.59L10.3 9.45l-7.72 7.72c-.78.78-.78 2.05 0 2.83L4 21.41c.39.39.9.59 1.41.59.51 0 1.02-.2 1.41-.59l7.78-7.78 2.81-2.81c.8-.78.8-2.07 0-2.86zM5.41 20L4 18.59l7.72-7.72 1.47 1.35L5.41 20z\"/>\n",
              "  </svg>\n",
              "      </button>\n",
              "      \n",
              "  <style>\n",
              "    .colab-df-container {\n",
              "      display:flex;\n",
              "      flex-wrap:wrap;\n",
              "      gap: 12px;\n",
              "    }\n",
              "\n",
              "    .colab-df-convert {\n",
              "      background-color: #E8F0FE;\n",
              "      border: none;\n",
              "      border-radius: 50%;\n",
              "      cursor: pointer;\n",
              "      display: none;\n",
              "      fill: #1967D2;\n",
              "      height: 32px;\n",
              "      padding: 0 0 0 0;\n",
              "      width: 32px;\n",
              "    }\n",
              "\n",
              "    .colab-df-convert:hover {\n",
              "      background-color: #E2EBFA;\n",
              "      box-shadow: 0px 1px 2px rgba(60, 64, 67, 0.3), 0px 1px 3px 1px rgba(60, 64, 67, 0.15);\n",
              "      fill: #174EA6;\n",
              "    }\n",
              "\n",
              "    [theme=dark] .colab-df-convert {\n",
              "      background-color: #3B4455;\n",
              "      fill: #D2E3FC;\n",
              "    }\n",
              "\n",
              "    [theme=dark] .colab-df-convert:hover {\n",
              "      background-color: #434B5C;\n",
              "      box-shadow: 0px 1px 3px 1px rgba(0, 0, 0, 0.15);\n",
              "      filter: drop-shadow(0px 1px 2px rgba(0, 0, 0, 0.3));\n",
              "      fill: #FFFFFF;\n",
              "    }\n",
              "  </style>\n",
              "\n",
              "      <script>\n",
              "        const buttonEl =\n",
              "          document.querySelector('#df-99f9037c-eaa0-41b1-b93f-12ccbe517f2b button.colab-df-convert');\n",
              "        buttonEl.style.display =\n",
              "          google.colab.kernel.accessAllowed ? 'block' : 'none';\n",
              "\n",
              "        async function convertToInteractive(key) {\n",
              "          const element = document.querySelector('#df-99f9037c-eaa0-41b1-b93f-12ccbe517f2b');\n",
              "          const dataTable =\n",
              "            await google.colab.kernel.invokeFunction('convertToInteractive',\n",
              "                                                     [key], {});\n",
              "          if (!dataTable) return;\n",
              "\n",
              "          const docLinkHtml = 'Like what you see? Visit the ' +\n",
              "            '<a target=\"_blank\" href=https://colab.research.google.com/notebooks/data_table.ipynb>data table notebook</a>'\n",
              "            + ' to learn more about interactive tables.';\n",
              "          element.innerHTML = '';\n",
              "          dataTable['output_type'] = 'display_data';\n",
              "          await google.colab.output.renderOutput(dataTable, element);\n",
              "          const docLink = document.createElement('div');\n",
              "          docLink.innerHTML = docLinkHtml;\n",
              "          element.appendChild(docLink);\n",
              "        }\n",
              "      </script>\n",
              "    </div>\n",
              "  </div>\n",
              "  "
            ]
          },
          "metadata": {},
          "execution_count": 10
        }
      ]
    },
    {
      "cell_type": "code",
      "source": [
        "!pip install demoji\n",
        "import demoji\n",
        "text=\"That is so funny 😂😂😂😉😉 \"\n",
        "print(\"Text before : \",text)\n",
        "final_op = demoji.replace(text,repl='')\n",
        "print(\"Text after : \",final_op)"
      ],
      "metadata": {
        "colab": {
          "base_uri": "https://localhost:8080/"
        },
        "id": "XIlCKCFfNipw",
        "outputId": "ce22ba0f-6aaf-41dd-b3d9-eedec61ed8b0"
      },
      "execution_count": 11,
      "outputs": [
        {
          "output_type": "stream",
          "name": "stdout",
          "text": [
            "Looking in indexes: https://pypi.org/simple, https://us-python.pkg.dev/colab-wheels/public/simple/\n",
            "Requirement already satisfied: demoji in /usr/local/lib/python3.7/dist-packages (1.1.0)\n",
            "Text before :  That is so funny 😂😂😂😉😉 \n",
            "Text after :  That is so funny  \n"
          ]
        }
      ]
    },
    {
      "cell_type": "code",
      "source": [
        "import re\n",
        "def delete_unneccessary_data(tweet):\n",
        "  tweet = demoji.replace(tweet,repl='')\n",
        "  tweet = re.sub(r'[^\\w\\s\\__]', '', tweet)\n",
        "\n",
        "  #delte username\n",
        "  tweet = re.sub('@[^\\s]+','',tweet)\n",
        "  tweet = re.sub('username[^\\s]+','',tweet)\n",
        "\n",
        "  #delete javascript tags\n",
        "  tweet =re.sub('< *script*>.*?< *script*>',' ',tweet)\n",
        "    \n",
        "  #delete all html tags\n",
        "  tweet = re.sub('<.*?>',' ',tweet)\n",
        "\n",
        "  #delete  https?://* \n",
        "  tweet=re.sub(r'http\\S+', '', tweet)\n",
        "\n",
        "  #delete duplicate characters\n",
        "  tweet = re.sub(r\"(.)\\1{2,}\", r\"\\1\\1\", tweet)\n",
        "\n",
        "  #delete numbers\n",
        "  tweet = re.sub(\"[0-9><,]+\",\" \",tweet)\n",
        "\n",
        "  #delete underscore\n",
        "  tweet= re.sub(\"[\\_]\",'',tweet)\n",
        "  \n",
        "  \n",
        "  return tweet"
      ],
      "metadata": {
        "id": "5Wb1S9wNiVGq"
      },
      "execution_count": 12,
      "outputs": []
    },
    {
      "cell_type": "code",
      "source": [
        "tweet=\"@abc_xyz is pursuing in B.Tech in UMIT,SNDT.😂😂😂😉😉\"\n",
        "print(\"before: \",tweet)\n",
        "tweet=delete_unneccessary_data(tweet)\n",
        "print(\"after: \",tweet)"
      ],
      "metadata": {
        "colab": {
          "base_uri": "https://localhost:8080/"
        },
        "id": "bAgX_sWtikqa",
        "outputId": "ed0945d3-3862-44ab-f4d2-4d635d57ce43"
      },
      "execution_count": 13,
      "outputs": [
        {
          "output_type": "stream",
          "name": "stdout",
          "text": [
            "before:  @abc_xyz is pursuing in B.Tech in UMIT,SNDT.😂😂😂😉😉\n",
            "after:  abcxyz is pursuing in BTech in UMITSNDT\n"
          ]
        }
      ]
    },
    {
      "cell_type": "markdown",
      "source": [
        "# 2] Normalising Whitespace"
      ],
      "metadata": {
        "id": "w42sMC4cGoFK"
      }
    },
    {
      "cell_type": "code",
      "source": [
        "def normalize_whitespace(tweet):\n",
        "    tweet = re.sub('[\\s]+', ' ', tweet)\n",
        "    return tweet"
      ],
      "metadata": {
        "id": "ZC1Y_ZH5GYI2"
      },
      "execution_count": 14,
      "outputs": []
    },
    {
      "cell_type": "markdown",
      "source": [
        "Testing Function"
      ],
      "metadata": {
        "id": "e4IPOJDzI5O6"
      }
    },
    {
      "cell_type": "code",
      "source": [
        "text = \"         We        are the students    of    UMIT,SNDT. \"\n",
        "print(\"Text Before: \",text)\n",
        "text = normalize_whitespace(text)\n",
        "print(\"Text After: \",text)"
      ],
      "metadata": {
        "colab": {
          "base_uri": "https://localhost:8080/"
        },
        "id": "8gYA5rLsGdZ5",
        "outputId": "3849395d-5d05-4b92-b631-1912ab0e161c"
      },
      "execution_count": 15,
      "outputs": [
        {
          "output_type": "stream",
          "name": "stdout",
          "text": [
            "Text Before:           We        are the students    of    UMIT,SNDT. \n",
            "Text After:   We are the students of UMIT,SNDT. \n"
          ]
        }
      ]
    },
    {
      "cell_type": "markdown",
      "source": [
        "#3] Convert hashtags into separate words"
      ],
      "metadata": {
        "id": "kHenLvURJMNZ"
      }
    },
    {
      "cell_type": "code",
      "source": [
        "def sp_h(hashtag_string):\n",
        "    fo = re.compile(r'#[A-Z]{2,}(?![a-z])|[A-Z][a-z]+')\n",
        "    \n",
        "   \n",
        "    fi = fo.findall(hashtag_string)\n",
        "    \n",
        "    return ' '.join(fi)"
      ],
      "metadata": {
        "id": "GkowVP4TIkaK"
      },
      "execution_count": 16,
      "outputs": []
    },
    {
      "cell_type": "code",
      "source": [
        "def split_hashtag(tweet):\n",
        "    tweet = re.sub(r'#[^\\s]+', lambda m: sp_h(m.group()), tweet)  #CovidCrisis => Covid Crisis\n",
        "    return tweet"
      ],
      "metadata": {
        "id": "ZlMTQLK5JD4S"
      },
      "execution_count": 17,
      "outputs": []
    },
    {
      "cell_type": "markdown",
      "source": [
        "Testing Function"
      ],
      "metadata": {
        "id": "GP-28QB7JHfL"
      }
    },
    {
      "cell_type": "code",
      "source": [
        "text = \" student of #UmitStudent\"\n",
        "print(\"Text Before: \",text)\n",
        "text = split_hashtag(text);\n",
        "print(\"Text After: \",text)\n"
      ],
      "metadata": {
        "colab": {
          "base_uri": "https://localhost:8080/"
        },
        "id": "UH28_bgQJAZr",
        "outputId": "6ad68082-97dc-41a2-d788-62ce0463e259"
      },
      "execution_count": 18,
      "outputs": [
        {
          "output_type": "stream",
          "name": "stdout",
          "text": [
            "Text Before:   student of #UmitStudent\n",
            "Text After:   student of Umit Student\n"
          ]
        }
      ]
    },
    {
      "cell_type": "markdown",
      "source": [
        "# 4] Creating a function to translate the text to English."
      ],
      "metadata": {
        "id": "eKuq5OXOJ7rW"
      }
    },
    {
      "cell_type": "code",
      "source": [
        "!pip install googletrans==3.1.0a0"
      ],
      "metadata": {
        "id": "1PDkNN8MJ5el",
        "colab": {
          "base_uri": "https://localhost:8080/"
        },
        "outputId": "256ad856-99ce-469c-8292-b167c62fa815"
      },
      "execution_count": 19,
      "outputs": [
        {
          "output_type": "stream",
          "name": "stdout",
          "text": [
            "Looking in indexes: https://pypi.org/simple, https://us-python.pkg.dev/colab-wheels/public/simple/\n",
            "Collecting googletrans==3.1.0a0\n",
            "  Downloading googletrans-3.1.0a0.tar.gz (19 kB)\n",
            "Collecting httpx==0.13.3\n",
            "  Downloading httpx-0.13.3-py3-none-any.whl (55 kB)\n",
            "\u001b[K     |████████████████████████████████| 55 kB 3.2 MB/s \n",
            "\u001b[?25hRequirement already satisfied: chardet==3.* in /usr/local/lib/python3.7/dist-packages (from httpx==0.13.3->googletrans==3.1.0a0) (3.0.4)\n",
            "Collecting httpcore==0.9.*\n",
            "  Downloading httpcore-0.9.1-py3-none-any.whl (42 kB)\n",
            "\u001b[K     |████████████████████████████████| 42 kB 1.4 MB/s \n",
            "\u001b[?25hCollecting rfc3986<2,>=1.3\n",
            "  Downloading rfc3986-1.5.0-py2.py3-none-any.whl (31 kB)\n",
            "Requirement already satisfied: idna==2.* in /usr/local/lib/python3.7/dist-packages (from httpx==0.13.3->googletrans==3.1.0a0) (2.10)\n",
            "Collecting hstspreload\n",
            "  Downloading hstspreload-2022.7.10-py3-none-any.whl (1.4 MB)\n",
            "\u001b[K     |████████████████████████████████| 1.4 MB 57.9 MB/s \n",
            "\u001b[?25hCollecting sniffio\n",
            "  Downloading sniffio-1.2.0-py3-none-any.whl (10 kB)\n",
            "Requirement already satisfied: certifi in /usr/local/lib/python3.7/dist-packages (from httpx==0.13.3->googletrans==3.1.0a0) (2022.6.15)\n",
            "Collecting h2==3.*\n",
            "  Downloading h2-3.2.0-py2.py3-none-any.whl (65 kB)\n",
            "\u001b[K     |████████████████████████████████| 65 kB 3.6 MB/s \n",
            "\u001b[?25hCollecting h11<0.10,>=0.8\n",
            "  Downloading h11-0.9.0-py2.py3-none-any.whl (53 kB)\n",
            "\u001b[K     |████████████████████████████████| 53 kB 2.5 MB/s \n",
            "\u001b[?25hCollecting hpack<4,>=3.0\n",
            "  Downloading hpack-3.0.0-py2.py3-none-any.whl (38 kB)\n",
            "Collecting hyperframe<6,>=5.2.0\n",
            "  Downloading hyperframe-5.2.0-py2.py3-none-any.whl (12 kB)\n",
            "Building wheels for collected packages: googletrans\n",
            "  Building wheel for googletrans (setup.py) ... \u001b[?25l\u001b[?25hdone\n",
            "  Created wheel for googletrans: filename=googletrans-3.1.0a0-py3-none-any.whl size=16367 sha256=977b8b47300fbd615f6cae3afcb77a640cfdbb76ba35050631022c8dbda11c1f\n",
            "  Stored in directory: /root/.cache/pip/wheels/0c/be/fe/93a6a40ffe386e16089e44dad9018ebab9dc4cb9eb7eab65ae\n",
            "Successfully built googletrans\n",
            "Installing collected packages: hyperframe, hpack, sniffio, h2, h11, rfc3986, httpcore, hstspreload, httpx, googletrans\n",
            "Successfully installed googletrans-3.1.0a0 h11-0.9.0 h2-3.2.0 hpack-3.0.0 hstspreload-2022.7.10 httpcore-0.9.1 httpx-0.13.3 hyperframe-5.2.0 rfc3986-1.5.0 sniffio-1.2.0\n"
          ]
        }
      ]
    },
    {
      "cell_type": "code",
      "source": [
        "import googletrans\n",
        "from googletrans import Translator"
      ],
      "metadata": {
        "id": "JTFwJLfxKGWc"
      },
      "execution_count": 20,
      "outputs": []
    },
    {
      "cell_type": "code",
      "source": [
        "def translate_to_english(tweet):\n",
        "    translator = Translator()\n",
        "    tweet = translator.translate(tweet).text\n",
        "    return tweet"
      ],
      "metadata": {
        "id": "UYxwulCwKI3X"
      },
      "execution_count": 21,
      "outputs": []
    },
    {
      "cell_type": "markdown",
      "source": [
        "Testing Function"
      ],
      "metadata": {
        "id": "CAfJlSEKLLlE"
      }
    },
    {
      "cell_type": "code",
      "source": [
        "text = \"मैंने खाना खा लिया\"\n",
        "text = translate_to_english(text)\n",
        "print(text)"
      ],
      "metadata": {
        "colab": {
          "base_uri": "https://localhost:8080/"
        },
        "id": "wJa0yHuzKL1G",
        "outputId": "31f3c74e-ab02-4a3c-bc4a-e4d8ed9be21d"
      },
      "execution_count": 22,
      "outputs": [
        {
          "output_type": "stream",
          "name": "stdout",
          "text": [
            "I have had my meal\n"
          ]
        }
      ]
    },
    {
      "cell_type": "markdown",
      "source": [
        "#5] Create a function for automatic correction of spelling mistakes"
      ],
      "metadata": {
        "id": "McWChHW4MBFh"
      }
    },
    {
      "cell_type": "code",
      "source": [
        "!pip install autocorrect\n",
        "from autocorrect import Speller\n",
        "spell = Speller(lang='en')\n"
      ],
      "metadata": {
        "colab": {
          "base_uri": "https://localhost:8080/"
        },
        "id": "6k8ajVuhL0BM",
        "outputId": "6deb1e8e-9c2f-4b6a-93eb-57757b7c470d"
      },
      "execution_count": 23,
      "outputs": [
        {
          "output_type": "stream",
          "name": "stdout",
          "text": [
            "Looking in indexes: https://pypi.org/simple, https://us-python.pkg.dev/colab-wheels/public/simple/\n",
            "Collecting autocorrect\n",
            "  Downloading autocorrect-2.6.1.tar.gz (622 kB)\n",
            "\u001b[K     |████████████████████████████████| 622 kB 27.7 MB/s \n",
            "\u001b[?25hBuilding wheels for collected packages: autocorrect\n",
            "  Building wheel for autocorrect (setup.py) ... \u001b[?25l\u001b[?25hdone\n",
            "  Created wheel for autocorrect: filename=autocorrect-2.6.1-py3-none-any.whl size=622382 sha256=c119e320c8148582ab5802c50746d0eb7922d929523da0e1e82ab8198584f9c6\n",
            "  Stored in directory: /root/.cache/pip/wheels/54/d4/37/8244101ad50b0f7d9bffd93ce58ed7991ee1753b290923934b\n",
            "Successfully built autocorrect\n",
            "Installing collected packages: autocorrect\n",
            "Successfully installed autocorrect-2.6.1\n"
          ]
        }
      ]
    },
    {
      "cell_type": "code",
      "source": [
        "#re -regular expression r- raw text \n",
        "#\\ space \n",
        "import re\n",
        "def correct_slang(text):\n",
        "    #convert to lower case\n",
        "    text = text.lower()\n",
        "    # Clean the text\n",
        "    text = re.sub(r\"\\'s \", \"is\", text) # we have cases like \"Sam is\" or \"Sam's\" (i.e. his) these two cases aren't separable, I choose to compromise are kill \"'s\" directly\n",
        "    text = re.sub(r\"whats\", \"what is\", text, flags=re.IGNORECASE)\n",
        "    text = re.sub(r\"\\'ve|hav\", \"have\", text)\n",
        "    text = re.sub(r\"n\\'t\", \"not\", text)\n",
        "    text = re.sub(r\"i'm\", \"i am\", text, flags=re.IGNORECASE)\n",
        "    text = re.sub(r\"\\re\", \"are\", text) \n",
        "    text = re.sub(r\"\\'d\", \"would\", text)\n",
        "    text = re.sub(r\"\\'ll\", \"will\", text)\n",
        "    text = re.sub(r\"e-mail\", \"email\", text, flags=re.IGNORECASE)\n",
        "    text = re.sub(r\"\\(s\\)\", \" \", text, flags=re.IGNORECASE)           #mester(s)\n",
        "    text = re.sub(r\"(the[\\s]+|The[\\s]+)?(us(a)?|u\\.s\\.(a\\.)?|united state(s)?)\", \"america\", text)\n",
        "    text = re.sub(r\"uk\", \"england\", text, flags=re.IGNORECASE)\n",
        "    text = re.sub(r\"imrovement\", \"improvement\", text, flags=re.IGNORECASE)\n",
        "    text = re.sub(r\"intially\", \"initially\", text, flags=re.IGNORECASE)\n",
        "    text = re.sub(r\"dms\", \"direct messages\", text, flags=re.IGNORECASE)  \n",
        "    text = re.sub(r\" demonitization \", \"demonetization\", text, flags=re.IGNORECASE) \n",
        "    text = re.sub(r\"actived\", \"active\", text, flags=re.IGNORECASE)\n",
        "    text = re.sub(r\"kms\", \"kilometers\", text, flags=re.IGNORECASE)\n",
        "    text = re.sub(r\"cs\", \"computer science\", text, flags=re.IGNORECASE)\n",
        "    text = re.sub(r\"calender\", \"calendar\", text, flags=re.IGNORECASE)\n",
        "    text = re.sub(r\"ios\", \"operating system\", text, flags=re.IGNORECASE)\n",
        "    text = re.sub(r\"programing\", \"programming\", text, flags=re.IGNORECASE)\n",
        "    text = re.sub(r\"bestfriend\", \"best friend\", text, flags=re.IGNORECASE)\n",
        "    text = re.sub(r\"bn8|god8\" ,'good night', text, flags=re.IGNORECASE)\n",
        "    text = re.sub(r\"2moro|2mrrw|2morrow|2mrw|tomrw\", \"tomorrow\", text)\n",
        "    text = re.sub(r\"b4\", \"before\", text)\n",
        "    text = re.sub(r\"otw\", \"on the way\", text)\n",
        "    text=re.sub(r\"wht\",\"what\",text)\n",
        "    text=re.sub(r\"yuh\",\"you\",text)\n",
        "    text=re.sub(r\"doin\",\"doing\",text)\n",
        "    text=re.sub(r\"exm\",\"exam\",text)\n",
        "\n",
        "    #text=spell(text)\n",
        "\n",
        "    return text"
      ],
      "metadata": {
        "id": "wLRjj11jMPFD"
      },
      "execution_count": 24,
      "outputs": []
    },
    {
      "cell_type": "code",
      "source": [
        "text =\"otw , wht exm \"\n",
        "print(\"Text Before: \",text)\n",
        "text=correct_slang(text)\n",
        "print(\"Text After: \",text)"
      ],
      "metadata": {
        "colab": {
          "base_uri": "https://localhost:8080/"
        },
        "id": "6TBOeqCWMY7y",
        "outputId": "1f3953fe-1c0e-4c75-e292-406be3c8607d"
      },
      "execution_count": 25,
      "outputs": [
        {
          "output_type": "stream",
          "name": "stdout",
          "text": [
            "Text Before:  otw , wht exm \n",
            "Text After:  on the way , what exam \n"
          ]
        }
      ]
    },
    {
      "cell_type": "markdown",
      "source": [
        "# Building our model"
      ],
      "metadata": {
        "id": "38zk1xzhebsv"
      }
    },
    {
      "cell_type": "markdown",
      "source": [
        "# Removing stopwords"
      ],
      "metadata": {
        "id": "jZvRNARBd3HH"
      }
    },
    {
      "cell_type": "code",
      "source": [
        "with open(\"/dummy.txt\",\"w\") as f : #making object\n",
        "  f.write(\"text to write\")\n",
        "  f.close()                                  # . means a function  ,this fucntion closes a function"
      ],
      "metadata": {
        "id": "1iUkm6q8RPuT"
      },
      "execution_count": 26,
      "outputs": []
    },
    {
      "cell_type": "code",
      "source": [
        "\n",
        "import nltk\n",
        "nltk.download('stopwords')\n",
        "import gensim\n",
        "from gensim.parsing.preprocessing import STOPWORDS\n",
        "from nltk.corpus import stopwords\n",
        "\n",
        "stop_words = stopwords.words('english')\n",
        "\n",
        "\n",
        "def remove_stopwords(text):\n",
        "  final_s=\"\"\n",
        "  # #text=\"my name is shrushti and i am a girl\"\n",
        "  # with open(\"trial_data/dummy.txt\",'r') as f:                            # file = f  whatevre file we need to add at place of dummy\n",
        "  #   text=f.read()\n",
        "  text_arr= text.split(\" \")                                              #splits sentence when space occurs\n",
        "  print(text_arr)\n",
        "  for word in text_arr:                             \n",
        "    if word not in stop_words:           # if word is not in stopword then append(join) it to string \n",
        "      final_s= final_s + word + \" \"\n",
        "\n",
        "  return final_s \n"
      ],
      "metadata": {
        "id": "NkCWtjmbOn6m",
        "colab": {
          "base_uri": "https://localhost:8080/"
        },
        "outputId": "f242baf7-69b2-4c4c-ae55-6ecf2554611f"
      },
      "execution_count": 27,
      "outputs": [
        {
          "output_type": "stream",
          "name": "stderr",
          "text": [
            "[nltk_data] Downloading package stopwords to /root/nltk_data...\n",
            "[nltk_data]   Unzipping corpora/stopwords.zip.\n"
          ]
        }
      ]
    },
    {
      "cell_type": "markdown",
      "source": [
        "# Stemming "
      ],
      "metadata": {
        "id": "IOhqVKHKds3x"
      }
    },
    {
      "cell_type": "code",
      "source": [
        "import nltk\n",
        "# nltk.download('wordnet')\n",
        "from nltk.stem import WordNetLemmatizer, SnowballStemmer, PorterStemmer\n",
        "\n",
        "stemmer = PorterStemmer()\n",
        "\n",
        "def tokenize_stemming(text):\n",
        "    text = re.sub(r'[^\\w\\s]','',text)\n",
        "    #replace multiple spaces with one space\n",
        "    text = re.sub(r'[\\s]+',' ',text)\n",
        "    #transfer text to lowercase\n",
        "    text = text.lower() \n",
        "    # tokenize text\n",
        "    tokens = re.split(\" \", text)\n",
        "\n",
        "    # Remove stop words \n",
        "    result = []\n",
        "    for token in tokens :\n",
        "        if token not in stop_words and len(token) > 1:\n",
        "            result.append(stemmer.stem(token))\n",
        "\n",
        "    return result"
      ],
      "metadata": {
        "id": "K3KlUUwkPKST"
      },
      "execution_count": 28,
      "outputs": []
    },
    {
      "cell_type": "markdown",
      "source": [
        "Testing Function"
      ],
      "metadata": {
        "id": "aOl4e4lSbo1n"
      }
    },
    {
      "cell_type": "code",
      "source": [
        "text = \"how to develop information retrieval applications\"\n",
        "print(\"Text Before: \",text)\n",
        "text = tokenize_stemming(text);\n",
        "print(\"Text After: \",text)\n"
      ],
      "metadata": {
        "colab": {
          "base_uri": "https://localhost:8080/"
        },
        "id": "UoOWLKBjPWq_",
        "outputId": "5d6e8741-c38a-4f72-9ff4-c540080d7493"
      },
      "execution_count": 29,
      "outputs": [
        {
          "output_type": "stream",
          "name": "stdout",
          "text": [
            "Text Before:  how to develop information retrieval applications\n",
            "Text After:  ['develop', 'inform', 'retriev', 'applic']\n"
          ]
        }
      ]
    },
    {
      "cell_type": "markdown",
      "source": [
        "# Combining all the preprocessing"
      ],
      "metadata": {
        "id": "ALRxOmBuhIXp"
      }
    },
    {
      "cell_type": "code",
      "source": [
        "def pre_processing(tweet):\n",
        "    tweet =split_hashtag(tweet)\n",
        "    #print(\"#split :\",tweet)\n",
        "    tweet = delete_unneccessary_data(tweet)\n",
        "    #print(\"delete:\",tweet)\n",
        "    tweet =normalize_whitespace(tweet)\n",
        "    #print(\"norm:\",tweet)\n",
        "    # tweet =sp_h(tweet)\n",
        "    # print(tweet)\n",
        "   \n",
        "   \n",
        "    tweet =translate_to_english(tweet)\n",
        "    #print(\"translate:\",tweet)\n",
        "    tweet = correct_slang(tweet)\n",
        "    #print(\"slag correct:\",tweet)\n",
        "    tweet =remove_stopwords(tweet)\n",
        "    #print(\"stopword removez:\",tweet)\n",
        "   \n",
        "    tweet=tokenize_stemming(tweet)\n",
        "    #print(\"token result: \",tweet)\n",
        "    \n",
        "    return tweet\n",
        "\n"
      ],
      "metadata": {
        "id": "yKX9ud2LhHuo"
      },
      "execution_count": 30,
      "outputs": []
    },
    {
      "cell_type": "markdown",
      "source": [
        "Testing Function"
      ],
      "metadata": {
        "id": "sOE0q0xcfhA2"
      }
    },
    {
      "cell_type": "code",
      "source": [
        "pre_processing(\"@We are         student of #UmitStudent . 😂😂\")"
      ],
      "metadata": {
        "colab": {
          "base_uri": "https://localhost:8080/"
        },
        "id": "toqJRu-1VqDe",
        "outputId": "8e8b0a1c-4908-4a22-85b9-a1ec59f49acd"
      },
      "execution_count": 31,
      "outputs": [
        {
          "output_type": "stream",
          "name": "stdout",
          "text": [
            "['we', 'are', 'student', 'of', 'umit', 'student']\n"
          ]
        },
        {
          "output_type": "execute_result",
          "data": {
            "text/plain": [
              "['student', 'umit', 'student']"
            ]
          },
          "metadata": {},
          "execution_count": 31
        }
      ]
    },
    {
      "cell_type": "markdown",
      "source": [
        "# Loading Data"
      ],
      "metadata": {
        "id": "Ma_3MYcOhZcn"
      }
    },
    {
      "cell_type": "code",
      "source": [
        "df = pd.read_csv('t3_data.csv')\n",
        "df"
      ],
      "metadata": {
        "id": "P5DgaAhuheru",
        "colab": {
          "base_uri": "https://localhost:8080/",
          "height": 1000
        },
        "outputId": "3f63169f-d5bb-4975-b27f-64d3500e10e9"
      },
      "execution_count": 32,
      "outputs": [
        {
          "output_type": "execute_result",
          "data": {
            "text/plain": [
              "    Unnamed: 0                       date  \\\n",
              "0            0  2022-07-18 03:04:01+00:00   \n",
              "1            1  2022-07-18 03:04:01+00:00   \n",
              "2            2  2022-07-18 03:04:00+00:00   \n",
              "3            3  2022-07-18 03:04:00+00:00   \n",
              "4            4  2022-07-18 03:04:00+00:00   \n",
              "5            5  2022-07-18 03:04:00+00:00   \n",
              "6            6  2022-07-18 03:04:00+00:00   \n",
              "7            7  2022-07-18 03:04:00+00:00   \n",
              "8            8  2022-07-18 03:04:00+00:00   \n",
              "9            9  2022-07-18 03:04:00+00:00   \n",
              "10          10  2022-07-18 03:04:00+00:00   \n",
              "11          11  2022-07-18 03:04:00+00:00   \n",
              "12          12  2022-07-18 03:04:00+00:00   \n",
              "13          13  2022-07-18 03:04:00+00:00   \n",
              "14          14  2022-07-18 03:03:59+00:00   \n",
              "15          15  2022-07-18 03:03:59+00:00   \n",
              "16          16  2022-07-18 03:03:59+00:00   \n",
              "17          17  2022-07-18 03:03:59+00:00   \n",
              "18          18  2022-07-18 03:03:58+00:00   \n",
              "19          19  2022-07-18 03:03:58+00:00   \n",
              "20          20  2022-07-18 03:03:58+00:00   \n",
              "21          21  2022-07-18 03:03:58+00:00   \n",
              "22          22  2022-07-18 03:03:58+00:00   \n",
              "23          23  2022-07-18 03:03:58+00:00   \n",
              "24          24  2022-07-18 03:03:58+00:00   \n",
              "25          25  2022-07-18 03:03:58+00:00   \n",
              "26          26  2022-07-18 03:03:58+00:00   \n",
              "27          27  2022-07-18 03:03:57+00:00   \n",
              "28          28  2022-07-18 03:03:57+00:00   \n",
              "29          29  2022-07-18 03:03:57+00:00   \n",
              "30          30  2022-07-18 03:03:57+00:00   \n",
              "31          31  2022-07-18 03:03:57+00:00   \n",
              "32          32  2022-07-18 03:03:57+00:00   \n",
              "33          33  2022-07-18 03:03:57+00:00   \n",
              "34          34  2022-07-18 03:03:56+00:00   \n",
              "35          35  2022-07-18 03:03:56+00:00   \n",
              "36          36  2022-07-18 03:03:56+00:00   \n",
              "37          37  2022-07-18 03:03:56+00:00   \n",
              "38          38  2022-07-18 03:03:56+00:00   \n",
              "39          39  2022-07-18 03:03:56+00:00   \n",
              "40          40  2022-07-18 03:03:56+00:00   \n",
              "41          41  2022-07-18 03:03:56+00:00   \n",
              "42          42  2022-07-18 03:03:56+00:00   \n",
              "43          43  2022-07-18 03:03:56+00:00   \n",
              "44          44  2022-07-18 03:03:56+00:00   \n",
              "45          45  2022-07-18 03:03:55+00:00   \n",
              "46          46  2022-07-18 03:03:55+00:00   \n",
              "47          47  2022-07-18 03:03:55+00:00   \n",
              "48          48  2022-07-18 03:03:55+00:00   \n",
              "49          49  2022-07-18 03:03:55+00:00   \n",
              "\n",
              "                                              content  \n",
              "0         @gowda7709 @codentrade @abidsensibull Like?  \n",
              "1                        @btscredit What's happening?  \n",
              "2   You know that you are a superhero when you can...  \n",
              "3                      @bhaskarsingh715 @pandit_S97 🙏  \n",
              "4                             @vachhan18 હર હર મહાદેવ  \n",
              "5                                   @A_suryavanshi_ 🙏  \n",
              "6   Spiritual Magazine \\nRishi Prasad \\nDivya Anub...  \n",
              "7   @GopalGa49464745 ये वरदी पहन कर कट्टरपन की तकर...  \n",
              "8     https://t.co/eA0nudWC9L https://t.co/vr0Vqd7hQr  \n",
              "9                         🤣🤣🤣 https://t.co/pHskvNXdOm  \n",
              "10  @GopichandP_MLC @Dev_Fadnavis पाहुणे आपण सलाचे...  \n",
              "11  The latest #CLOUD Update! https://t.co/KCweEye...  \n",
              "12                                  @BitcoinLebron 🥰🤞  \n",
              "13                            https://t.co/QNSCVfFxa8  \n",
              "14  @nazir28 @PawanKalyan చేగువేరా గెటప్ బాగుటుంది...  \n",
              "15  Wishing 4 time @BJP4Karnataka Legislator, @BJP...  \n",
              "16  Rishi Prasaad a Spiritual Magazine which is pu...  \n",
              "17                                @Rish_quotes महादेव  \n",
              "18     @hypernationalst @psantosh_44 हर हर महादेव 🙏🏻🚩  \n",
              "19                       @ANINewsUP @ANI हर हर महादेव  \n",
              "20  \"માણસના સારા જીવનનો રસ્તો સારા પુસ્તકોથી થઈને ...  \n",
              "21  koi bata sakta hai tweeter pe username kaise c...  \n",
              "22  शाहू महाराज यांचे विचार....\\n#महाराष्ट्र https...  \n",
              "23  @Nk992739 @begu_manoj @ShubmanGill Om Namo Shivay  \n",
              "24  @skjnition Why it's bad...... If it would get ...  \n",
              "25       @isro @AgnikulCosmos https://t.co/5IDVG4aB7l  \n",
              "26  #WPT Investing Corp ( $WPT/WETH)\\n\\nPrice: $ 0...  \n",
              "27  @nishikant_dubey @AshwiniVaishnaw आजादी के 75 ...  \n",
              "28           @that_anokha_boy https://t.co/GoOW4VE42G  \n",
              "29       Congratulations 🎉🎉👏👏 https://t.co/9Eeiee5yxV  \n",
              "30  Spiritual Magazine \\nRishi Prasad \\nDivya Anub...  \n",
              "31  And @AkshayMarathe, happy to continue the conv...  \n",
              "32  @agor1312 @bhaskarsingh715 ॐ नमः शिवायः🕉️🕉️🕉️🕉...  \n",
              "33                            https://t.co/FAGNfrjnJp  \n",
              "34                       @afreen_f_khan Halala halala  \n",
              "35                @chauhanaug08 @BJPSP9 जय श्री कृष्ण  \n",
              "36  👑 Free NFT airdrop 👑\\n\\n✅ Drop your $ETH addre...  \n",
              "37  Is this the most glorious typo or what https:/...  \n",
              "38  #ऋषिप्रसाद_ज्ञानामृत\\n\"जिसके लिए ब्रह्म स्वयं ...  \n",
              "39  Hi, always we have two ways to solve a problem...  \n",
              "40  @AshramGaushala @RishiPrasadOrg @RishiDarshan ...  \n",
              "41  Look at this... 👀 https://t.co/QgKoiKrKuP nice...  \n",
              "42  Agar rahoge to shayad ho jayegi https://t.co/e...  \n",
              "43  Sawan Somvar ( Lord Shiva ) \\nsawan somvar ki ...  \n",
              "44  \"Let them eat their heart out\" he said of the ...  \n",
              "45  @INPettyOfficer @indiannavy RIP... may God giv...  \n",
              "46  @Deepakswami2571 @rajiv_dmk @SeemanOfficial எங...  \n",
              "47  @NurAlam70221273 Hi Alam, we are sorry to know...  \n",
              "48  Omg this is different not that who sold PNB.. ...  \n",
              "49  @raziasworld @DavidMariposa1 @Kri_Te_Acharya @...  "
            ],
            "text/html": [
              "\n",
              "  <div id=\"df-99c1c850-9844-4b0f-9982-31b877b2d6f1\">\n",
              "    <div class=\"colab-df-container\">\n",
              "      <div>\n",
              "<style scoped>\n",
              "    .dataframe tbody tr th:only-of-type {\n",
              "        vertical-align: middle;\n",
              "    }\n",
              "\n",
              "    .dataframe tbody tr th {\n",
              "        vertical-align: top;\n",
              "    }\n",
              "\n",
              "    .dataframe thead th {\n",
              "        text-align: right;\n",
              "    }\n",
              "</style>\n",
              "<table border=\"1\" class=\"dataframe\">\n",
              "  <thead>\n",
              "    <tr style=\"text-align: right;\">\n",
              "      <th></th>\n",
              "      <th>Unnamed: 0</th>\n",
              "      <th>date</th>\n",
              "      <th>content</th>\n",
              "    </tr>\n",
              "  </thead>\n",
              "  <tbody>\n",
              "    <tr>\n",
              "      <th>0</th>\n",
              "      <td>0</td>\n",
              "      <td>2022-07-18 03:04:01+00:00</td>\n",
              "      <td>@gowda7709 @codentrade @abidsensibull Like?</td>\n",
              "    </tr>\n",
              "    <tr>\n",
              "      <th>1</th>\n",
              "      <td>1</td>\n",
              "      <td>2022-07-18 03:04:01+00:00</td>\n",
              "      <td>@btscredit What's happening?</td>\n",
              "    </tr>\n",
              "    <tr>\n",
              "      <th>2</th>\n",
              "      <td>2</td>\n",
              "      <td>2022-07-18 03:04:00+00:00</td>\n",
              "      <td>You know that you are a superhero when you can...</td>\n",
              "    </tr>\n",
              "    <tr>\n",
              "      <th>3</th>\n",
              "      <td>3</td>\n",
              "      <td>2022-07-18 03:04:00+00:00</td>\n",
              "      <td>@bhaskarsingh715 @pandit_S97 🙏</td>\n",
              "    </tr>\n",
              "    <tr>\n",
              "      <th>4</th>\n",
              "      <td>4</td>\n",
              "      <td>2022-07-18 03:04:00+00:00</td>\n",
              "      <td>@vachhan18 હર હર મહાદેવ</td>\n",
              "    </tr>\n",
              "    <tr>\n",
              "      <th>5</th>\n",
              "      <td>5</td>\n",
              "      <td>2022-07-18 03:04:00+00:00</td>\n",
              "      <td>@A_suryavanshi_ 🙏</td>\n",
              "    </tr>\n",
              "    <tr>\n",
              "      <th>6</th>\n",
              "      <td>6</td>\n",
              "      <td>2022-07-18 03:04:00+00:00</td>\n",
              "      <td>Spiritual Magazine \\nRishi Prasad \\nDivya Anub...</td>\n",
              "    </tr>\n",
              "    <tr>\n",
              "      <th>7</th>\n",
              "      <td>7</td>\n",
              "      <td>2022-07-18 03:04:00+00:00</td>\n",
              "      <td>@GopalGa49464745 ये वरदी पहन कर कट्टरपन की तकर...</td>\n",
              "    </tr>\n",
              "    <tr>\n",
              "      <th>8</th>\n",
              "      <td>8</td>\n",
              "      <td>2022-07-18 03:04:00+00:00</td>\n",
              "      <td>https://t.co/eA0nudWC9L https://t.co/vr0Vqd7hQr</td>\n",
              "    </tr>\n",
              "    <tr>\n",
              "      <th>9</th>\n",
              "      <td>9</td>\n",
              "      <td>2022-07-18 03:04:00+00:00</td>\n",
              "      <td>🤣🤣🤣 https://t.co/pHskvNXdOm</td>\n",
              "    </tr>\n",
              "    <tr>\n",
              "      <th>10</th>\n",
              "      <td>10</td>\n",
              "      <td>2022-07-18 03:04:00+00:00</td>\n",
              "      <td>@GopichandP_MLC @Dev_Fadnavis पाहुणे आपण सलाचे...</td>\n",
              "    </tr>\n",
              "    <tr>\n",
              "      <th>11</th>\n",
              "      <td>11</td>\n",
              "      <td>2022-07-18 03:04:00+00:00</td>\n",
              "      <td>The latest #CLOUD Update! https://t.co/KCweEye...</td>\n",
              "    </tr>\n",
              "    <tr>\n",
              "      <th>12</th>\n",
              "      <td>12</td>\n",
              "      <td>2022-07-18 03:04:00+00:00</td>\n",
              "      <td>@BitcoinLebron 🥰🤞</td>\n",
              "    </tr>\n",
              "    <tr>\n",
              "      <th>13</th>\n",
              "      <td>13</td>\n",
              "      <td>2022-07-18 03:04:00+00:00</td>\n",
              "      <td>https://t.co/QNSCVfFxa8</td>\n",
              "    </tr>\n",
              "    <tr>\n",
              "      <th>14</th>\n",
              "      <td>14</td>\n",
              "      <td>2022-07-18 03:03:59+00:00</td>\n",
              "      <td>@nazir28 @PawanKalyan చేగువేరా గెటప్ బాగుటుంది...</td>\n",
              "    </tr>\n",
              "    <tr>\n",
              "      <th>15</th>\n",
              "      <td>15</td>\n",
              "      <td>2022-07-18 03:03:59+00:00</td>\n",
              "      <td>Wishing 4 time @BJP4Karnataka Legislator, @BJP...</td>\n",
              "    </tr>\n",
              "    <tr>\n",
              "      <th>16</th>\n",
              "      <td>16</td>\n",
              "      <td>2022-07-18 03:03:59+00:00</td>\n",
              "      <td>Rishi Prasaad a Spiritual Magazine which is pu...</td>\n",
              "    </tr>\n",
              "    <tr>\n",
              "      <th>17</th>\n",
              "      <td>17</td>\n",
              "      <td>2022-07-18 03:03:59+00:00</td>\n",
              "      <td>@Rish_quotes महादेव</td>\n",
              "    </tr>\n",
              "    <tr>\n",
              "      <th>18</th>\n",
              "      <td>18</td>\n",
              "      <td>2022-07-18 03:03:58+00:00</td>\n",
              "      <td>@hypernationalst @psantosh_44 हर हर महादेव 🙏🏻🚩</td>\n",
              "    </tr>\n",
              "    <tr>\n",
              "      <th>19</th>\n",
              "      <td>19</td>\n",
              "      <td>2022-07-18 03:03:58+00:00</td>\n",
              "      <td>@ANINewsUP @ANI हर हर महादेव</td>\n",
              "    </tr>\n",
              "    <tr>\n",
              "      <th>20</th>\n",
              "      <td>20</td>\n",
              "      <td>2022-07-18 03:03:58+00:00</td>\n",
              "      <td>\"માણસના સારા જીવનનો રસ્તો સારા પુસ્તકોથી થઈને ...</td>\n",
              "    </tr>\n",
              "    <tr>\n",
              "      <th>21</th>\n",
              "      <td>21</td>\n",
              "      <td>2022-07-18 03:03:58+00:00</td>\n",
              "      <td>koi bata sakta hai tweeter pe username kaise c...</td>\n",
              "    </tr>\n",
              "    <tr>\n",
              "      <th>22</th>\n",
              "      <td>22</td>\n",
              "      <td>2022-07-18 03:03:58+00:00</td>\n",
              "      <td>शाहू महाराज यांचे विचार....\\n#महाराष्ट्र https...</td>\n",
              "    </tr>\n",
              "    <tr>\n",
              "      <th>23</th>\n",
              "      <td>23</td>\n",
              "      <td>2022-07-18 03:03:58+00:00</td>\n",
              "      <td>@Nk992739 @begu_manoj @ShubmanGill Om Namo Shivay</td>\n",
              "    </tr>\n",
              "    <tr>\n",
              "      <th>24</th>\n",
              "      <td>24</td>\n",
              "      <td>2022-07-18 03:03:58+00:00</td>\n",
              "      <td>@skjnition Why it's bad...... If it would get ...</td>\n",
              "    </tr>\n",
              "    <tr>\n",
              "      <th>25</th>\n",
              "      <td>25</td>\n",
              "      <td>2022-07-18 03:03:58+00:00</td>\n",
              "      <td>@isro @AgnikulCosmos https://t.co/5IDVG4aB7l</td>\n",
              "    </tr>\n",
              "    <tr>\n",
              "      <th>26</th>\n",
              "      <td>26</td>\n",
              "      <td>2022-07-18 03:03:58+00:00</td>\n",
              "      <td>#WPT Investing Corp ( $WPT/WETH)\\n\\nPrice: $ 0...</td>\n",
              "    </tr>\n",
              "    <tr>\n",
              "      <th>27</th>\n",
              "      <td>27</td>\n",
              "      <td>2022-07-18 03:03:57+00:00</td>\n",
              "      <td>@nishikant_dubey @AshwiniVaishnaw आजादी के 75 ...</td>\n",
              "    </tr>\n",
              "    <tr>\n",
              "      <th>28</th>\n",
              "      <td>28</td>\n",
              "      <td>2022-07-18 03:03:57+00:00</td>\n",
              "      <td>@that_anokha_boy https://t.co/GoOW4VE42G</td>\n",
              "    </tr>\n",
              "    <tr>\n",
              "      <th>29</th>\n",
              "      <td>29</td>\n",
              "      <td>2022-07-18 03:03:57+00:00</td>\n",
              "      <td>Congratulations 🎉🎉👏👏 https://t.co/9Eeiee5yxV</td>\n",
              "    </tr>\n",
              "    <tr>\n",
              "      <th>30</th>\n",
              "      <td>30</td>\n",
              "      <td>2022-07-18 03:03:57+00:00</td>\n",
              "      <td>Spiritual Magazine \\nRishi Prasad \\nDivya Anub...</td>\n",
              "    </tr>\n",
              "    <tr>\n",
              "      <th>31</th>\n",
              "      <td>31</td>\n",
              "      <td>2022-07-18 03:03:57+00:00</td>\n",
              "      <td>And @AkshayMarathe, happy to continue the conv...</td>\n",
              "    </tr>\n",
              "    <tr>\n",
              "      <th>32</th>\n",
              "      <td>32</td>\n",
              "      <td>2022-07-18 03:03:57+00:00</td>\n",
              "      <td>@agor1312 @bhaskarsingh715 ॐ नमः शिवायः🕉️🕉️🕉️🕉...</td>\n",
              "    </tr>\n",
              "    <tr>\n",
              "      <th>33</th>\n",
              "      <td>33</td>\n",
              "      <td>2022-07-18 03:03:57+00:00</td>\n",
              "      <td>https://t.co/FAGNfrjnJp</td>\n",
              "    </tr>\n",
              "    <tr>\n",
              "      <th>34</th>\n",
              "      <td>34</td>\n",
              "      <td>2022-07-18 03:03:56+00:00</td>\n",
              "      <td>@afreen_f_khan Halala halala</td>\n",
              "    </tr>\n",
              "    <tr>\n",
              "      <th>35</th>\n",
              "      <td>35</td>\n",
              "      <td>2022-07-18 03:03:56+00:00</td>\n",
              "      <td>@chauhanaug08 @BJPSP9 जय श्री कृष्ण</td>\n",
              "    </tr>\n",
              "    <tr>\n",
              "      <th>36</th>\n",
              "      <td>36</td>\n",
              "      <td>2022-07-18 03:03:56+00:00</td>\n",
              "      <td>👑 Free NFT airdrop 👑\\n\\n✅ Drop your $ETH addre...</td>\n",
              "    </tr>\n",
              "    <tr>\n",
              "      <th>37</th>\n",
              "      <td>37</td>\n",
              "      <td>2022-07-18 03:03:56+00:00</td>\n",
              "      <td>Is this the most glorious typo or what https:/...</td>\n",
              "    </tr>\n",
              "    <tr>\n",
              "      <th>38</th>\n",
              "      <td>38</td>\n",
              "      <td>2022-07-18 03:03:56+00:00</td>\n",
              "      <td>#ऋषिप्रसाद_ज्ञानामृत\\n\"जिसके लिए ब्रह्म स्वयं ...</td>\n",
              "    </tr>\n",
              "    <tr>\n",
              "      <th>39</th>\n",
              "      <td>39</td>\n",
              "      <td>2022-07-18 03:03:56+00:00</td>\n",
              "      <td>Hi, always we have two ways to solve a problem...</td>\n",
              "    </tr>\n",
              "    <tr>\n",
              "      <th>40</th>\n",
              "      <td>40</td>\n",
              "      <td>2022-07-18 03:03:56+00:00</td>\n",
              "      <td>@AshramGaushala @RishiPrasadOrg @RishiDarshan ...</td>\n",
              "    </tr>\n",
              "    <tr>\n",
              "      <th>41</th>\n",
              "      <td>41</td>\n",
              "      <td>2022-07-18 03:03:56+00:00</td>\n",
              "      <td>Look at this... 👀 https://t.co/QgKoiKrKuP nice...</td>\n",
              "    </tr>\n",
              "    <tr>\n",
              "      <th>42</th>\n",
              "      <td>42</td>\n",
              "      <td>2022-07-18 03:03:56+00:00</td>\n",
              "      <td>Agar rahoge to shayad ho jayegi https://t.co/e...</td>\n",
              "    </tr>\n",
              "    <tr>\n",
              "      <th>43</th>\n",
              "      <td>43</td>\n",
              "      <td>2022-07-18 03:03:56+00:00</td>\n",
              "      <td>Sawan Somvar ( Lord Shiva ) \\nsawan somvar ki ...</td>\n",
              "    </tr>\n",
              "    <tr>\n",
              "      <th>44</th>\n",
              "      <td>44</td>\n",
              "      <td>2022-07-18 03:03:56+00:00</td>\n",
              "      <td>\"Let them eat their heart out\" he said of the ...</td>\n",
              "    </tr>\n",
              "    <tr>\n",
              "      <th>45</th>\n",
              "      <td>45</td>\n",
              "      <td>2022-07-18 03:03:55+00:00</td>\n",
              "      <td>@INPettyOfficer @indiannavy RIP... may God giv...</td>\n",
              "    </tr>\n",
              "    <tr>\n",
              "      <th>46</th>\n",
              "      <td>46</td>\n",
              "      <td>2022-07-18 03:03:55+00:00</td>\n",
              "      <td>@Deepakswami2571 @rajiv_dmk @SeemanOfficial எங...</td>\n",
              "    </tr>\n",
              "    <tr>\n",
              "      <th>47</th>\n",
              "      <td>47</td>\n",
              "      <td>2022-07-18 03:03:55+00:00</td>\n",
              "      <td>@NurAlam70221273 Hi Alam, we are sorry to know...</td>\n",
              "    </tr>\n",
              "    <tr>\n",
              "      <th>48</th>\n",
              "      <td>48</td>\n",
              "      <td>2022-07-18 03:03:55+00:00</td>\n",
              "      <td>Omg this is different not that who sold PNB.. ...</td>\n",
              "    </tr>\n",
              "    <tr>\n",
              "      <th>49</th>\n",
              "      <td>49</td>\n",
              "      <td>2022-07-18 03:03:55+00:00</td>\n",
              "      <td>@raziasworld @DavidMariposa1 @Kri_Te_Acharya @...</td>\n",
              "    </tr>\n",
              "  </tbody>\n",
              "</table>\n",
              "</div>\n",
              "      <button class=\"colab-df-convert\" onclick=\"convertToInteractive('df-99c1c850-9844-4b0f-9982-31b877b2d6f1')\"\n",
              "              title=\"Convert this dataframe to an interactive table.\"\n",
              "              style=\"display:none;\">\n",
              "        \n",
              "  <svg xmlns=\"http://www.w3.org/2000/svg\" height=\"24px\"viewBox=\"0 0 24 24\"\n",
              "       width=\"24px\">\n",
              "    <path d=\"M0 0h24v24H0V0z\" fill=\"none\"/>\n",
              "    <path d=\"M18.56 5.44l.94 2.06.94-2.06 2.06-.94-2.06-.94-.94-2.06-.94 2.06-2.06.94zm-11 1L8.5 8.5l.94-2.06 2.06-.94-2.06-.94L8.5 2.5l-.94 2.06-2.06.94zm10 10l.94 2.06.94-2.06 2.06-.94-2.06-.94-.94-2.06-.94 2.06-2.06.94z\"/><path d=\"M17.41 7.96l-1.37-1.37c-.4-.4-.92-.59-1.43-.59-.52 0-1.04.2-1.43.59L10.3 9.45l-7.72 7.72c-.78.78-.78 2.05 0 2.83L4 21.41c.39.39.9.59 1.41.59.51 0 1.02-.2 1.41-.59l7.78-7.78 2.81-2.81c.8-.78.8-2.07 0-2.86zM5.41 20L4 18.59l7.72-7.72 1.47 1.35L5.41 20z\"/>\n",
              "  </svg>\n",
              "      </button>\n",
              "      \n",
              "  <style>\n",
              "    .colab-df-container {\n",
              "      display:flex;\n",
              "      flex-wrap:wrap;\n",
              "      gap: 12px;\n",
              "    }\n",
              "\n",
              "    .colab-df-convert {\n",
              "      background-color: #E8F0FE;\n",
              "      border: none;\n",
              "      border-radius: 50%;\n",
              "      cursor: pointer;\n",
              "      display: none;\n",
              "      fill: #1967D2;\n",
              "      height: 32px;\n",
              "      padding: 0 0 0 0;\n",
              "      width: 32px;\n",
              "    }\n",
              "\n",
              "    .colab-df-convert:hover {\n",
              "      background-color: #E2EBFA;\n",
              "      box-shadow: 0px 1px 2px rgba(60, 64, 67, 0.3), 0px 1px 3px 1px rgba(60, 64, 67, 0.15);\n",
              "      fill: #174EA6;\n",
              "    }\n",
              "\n",
              "    [theme=dark] .colab-df-convert {\n",
              "      background-color: #3B4455;\n",
              "      fill: #D2E3FC;\n",
              "    }\n",
              "\n",
              "    [theme=dark] .colab-df-convert:hover {\n",
              "      background-color: #434B5C;\n",
              "      box-shadow: 0px 1px 3px 1px rgba(0, 0, 0, 0.15);\n",
              "      filter: drop-shadow(0px 1px 2px rgba(0, 0, 0, 0.3));\n",
              "      fill: #FFFFFF;\n",
              "    }\n",
              "  </style>\n",
              "\n",
              "      <script>\n",
              "        const buttonEl =\n",
              "          document.querySelector('#df-99c1c850-9844-4b0f-9982-31b877b2d6f1 button.colab-df-convert');\n",
              "        buttonEl.style.display =\n",
              "          google.colab.kernel.accessAllowed ? 'block' : 'none';\n",
              "\n",
              "        async function convertToInteractive(key) {\n",
              "          const element = document.querySelector('#df-99c1c850-9844-4b0f-9982-31b877b2d6f1');\n",
              "          const dataTable =\n",
              "            await google.colab.kernel.invokeFunction('convertToInteractive',\n",
              "                                                     [key], {});\n",
              "          if (!dataTable) return;\n",
              "\n",
              "          const docLinkHtml = 'Like what you see? Visit the ' +\n",
              "            '<a target=\"_blank\" href=https://colab.research.google.com/notebooks/data_table.ipynb>data table notebook</a>'\n",
              "            + ' to learn more about interactive tables.';\n",
              "          element.innerHTML = '';\n",
              "          dataTable['output_type'] = 'display_data';\n",
              "          await google.colab.output.renderOutput(dataTable, element);\n",
              "          const docLink = document.createElement('div');\n",
              "          docLink.innerHTML = docLinkHtml;\n",
              "          element.appendChild(docLink);\n",
              "        }\n",
              "      </script>\n",
              "    </div>\n",
              "  </div>\n",
              "  "
            ]
          },
          "metadata": {},
          "execution_count": 32
        }
      ]
    },
    {
      "cell_type": "markdown",
      "source": [
        "# Processing all the Tweets"
      ],
      "metadata": {
        "id": "YbstTXpShiBf"
      }
    },
    {
      "cell_type": "code",
      "source": [
        "content = df['content']\n",
        "content "
      ],
      "metadata": {
        "colab": {
          "base_uri": "https://localhost:8080/"
        },
        "id": "RjutG20Pd0WU",
        "outputId": "f8bf0050-0213-473b-ef6a-9f4f3ff0e43b"
      },
      "execution_count": 33,
      "outputs": [
        {
          "output_type": "execute_result",
          "data": {
            "text/plain": [
              "0           @gowda7709 @codentrade @abidsensibull Like?\n",
              "1                          @btscredit What's happening?\n",
              "2     You know that you are a superhero when you can...\n",
              "3                        @bhaskarsingh715 @pandit_S97 🙏\n",
              "4                               @vachhan18 હર હર મહાદેવ\n",
              "5                                     @A_suryavanshi_ 🙏\n",
              "6     Spiritual Magazine \\nRishi Prasad \\nDivya Anub...\n",
              "7     @GopalGa49464745 ये वरदी पहन कर कट्टरपन की तकर...\n",
              "8       https://t.co/eA0nudWC9L https://t.co/vr0Vqd7hQr\n",
              "9                           🤣🤣🤣 https://t.co/pHskvNXdOm\n",
              "10    @GopichandP_MLC @Dev_Fadnavis पाहुणे आपण सलाचे...\n",
              "11    The latest #CLOUD Update! https://t.co/KCweEye...\n",
              "12                                    @BitcoinLebron 🥰🤞\n",
              "13                              https://t.co/QNSCVfFxa8\n",
              "14    @nazir28 @PawanKalyan చేగువేరా గెటప్ బాగుటుంది...\n",
              "15    Wishing 4 time @BJP4Karnataka Legislator, @BJP...\n",
              "16    Rishi Prasaad a Spiritual Magazine which is pu...\n",
              "17                                  @Rish_quotes महादेव\n",
              "18       @hypernationalst @psantosh_44 हर हर महादेव 🙏🏻🚩\n",
              "19                         @ANINewsUP @ANI हर हर महादेव\n",
              "20    \"માણસના સારા જીવનનો રસ્તો સારા પુસ્તકોથી થઈને ...\n",
              "21    koi bata sakta hai tweeter pe username kaise c...\n",
              "22    शाहू महाराज यांचे विचार....\\n#महाराष्ट्र https...\n",
              "23    @Nk992739 @begu_manoj @ShubmanGill Om Namo Shivay\n",
              "24    @skjnition Why it's bad...... If it would get ...\n",
              "25         @isro @AgnikulCosmos https://t.co/5IDVG4aB7l\n",
              "26    #WPT Investing Corp ( $WPT/WETH)\\n\\nPrice: $ 0...\n",
              "27    @nishikant_dubey @AshwiniVaishnaw आजादी के 75 ...\n",
              "28             @that_anokha_boy https://t.co/GoOW4VE42G\n",
              "29         Congratulations 🎉🎉👏👏 https://t.co/9Eeiee5yxV\n",
              "30    Spiritual Magazine \\nRishi Prasad \\nDivya Anub...\n",
              "31    And @AkshayMarathe, happy to continue the conv...\n",
              "32    @agor1312 @bhaskarsingh715 ॐ नमः शिवायः🕉️🕉️🕉️🕉...\n",
              "33                              https://t.co/FAGNfrjnJp\n",
              "34                         @afreen_f_khan Halala halala\n",
              "35                  @chauhanaug08 @BJPSP9 जय श्री कृष्ण\n",
              "36    👑 Free NFT airdrop 👑\\n\\n✅ Drop your $ETH addre...\n",
              "37    Is this the most glorious typo or what https:/...\n",
              "38    #ऋषिप्रसाद_ज्ञानामृत\\n\"जिसके लिए ब्रह्म स्वयं ...\n",
              "39    Hi, always we have two ways to solve a problem...\n",
              "40    @AshramGaushala @RishiPrasadOrg @RishiDarshan ...\n",
              "41    Look at this... 👀 https://t.co/QgKoiKrKuP nice...\n",
              "42    Agar rahoge to shayad ho jayegi https://t.co/e...\n",
              "43    Sawan Somvar ( Lord Shiva ) \\nsawan somvar ki ...\n",
              "44    \"Let them eat their heart out\" he said of the ...\n",
              "45    @INPettyOfficer @indiannavy RIP... may God giv...\n",
              "46    @Deepakswami2571 @rajiv_dmk @SeemanOfficial எங...\n",
              "47    @NurAlam70221273 Hi Alam, we are sorry to know...\n",
              "48    Omg this is different not that who sold PNB.. ...\n",
              "49    @raziasworld @DavidMariposa1 @Kri_Te_Acharya @...\n",
              "Name: content, dtype: object"
            ]
          },
          "metadata": {},
          "execution_count": 33
        }
      ]
    },
    {
      "cell_type": "code",
      "source": [
        "tokens = []\n",
        "for tweet in content:\n",
        "    tokens.append(pre_processing(tweet))"
      ],
      "metadata": {
        "colab": {
          "base_uri": "https://localhost:8080/"
        },
        "id": "fjOaRQyCeX43",
        "outputId": "87ac3420-ba7d-497d-a8ef-3f3b7a12fc7b"
      },
      "execution_count": 34,
      "outputs": [
        {
          "output_type": "stream",
          "name": "stdout",
          "text": [
            "['gowda', 'codentrade', 'abidsensibull', 'like']\n",
            "['btscredit', 'what', 'is', 'happening']\n",
            "['you', 'know', 'that', 'you', 'are', 'a', 'superhero', 'when', 'you', 'can', 'hit', 'sixes', 'with', 'one', 'hand', 'rishabh', 'pant']\n",
            "['bhaskarsingh', 'pandits']\n",
            "['vachhan', 'har', 'har', 'mahdav']\n",
            "['asuryavanshi']\n",
            "['spiritual', 'magazine', 'rishi', 'prasad', 'divya', 'anubhave', 'visheshank', 'described', 'in', 'jalai', 'the', 'splendid', 'sant', 'shri', 'asharamji', 'bapu', 'who', 'appeared', 'after', 'the', 'baptism', 'of', 'more', 'than', 'one', 'brother', 'of', 'america', 'when', 'he', 'was', 'in', 'remembrance.']\n",
            "['gopalga', 'is', 'fighting', 'fanaticism', 'by', 'wearing', 'a', 'manisuniform']\n",
            "['']\n",
            "['']\n",
            "['gopichandpmlc', 'devfadnavis', 'pahan,', 'if', 'you', 'are', 'a', 'salach', 'gad,', 'you', 'should', 'change', 'the', 'category.']\n",
            "['the', 'latest', 'cloud', 'update', 'thanks', 'to', 'rightstudying', 'craigbrownphd', 'elira']\n",
            "['bitcoinlebron']\n",
            "['']\n",
            "['nazir', 'pawankalyan', 'chagawara', 'gatapa', 'bagatada', 'adaka']\n",
            "['wishing', 'time', 'bjp', 'karnataka', 'legislator', 'bjp', 'indias', 'national', 'gs', 'amp', 'our', 'bjp', 'goas', 'prabhari', 'ctravibjpji', 'on', 'his', 'birthday']\n",
            "['rishi', 'prasaad', 'a', 'spiritual', 'magazine', 'which', 'is', 'published', 'by', 'the', 'incomparable', 'knowledge', 'of', 'sant', 'shri', 'asharamji', 'bapu', 'by', 'reading', 'this', 'magazine', 'peoples', 'get', 'different', 'experiences', 'divya', 'anubhave', 'visheshank']\n",
            "['rishquotes', 'mahdav']\n",
            "['hypernationalst', 'psantosh', 'har', 'har', 'mahdev']\n",
            "['aninewsup', 'ani', 'har', 'har', 'mahadev']\n",
            "['monday', 'motivation']\n",
            "['can', 'anyone', 'tell', 'how', 'to', 'change', 'americaername', 'on', 'twitter']\n",
            "['shah', 'maharaj', 'yach', 'vachar']\n",
            "['nak', 'begumnoj', 'shumbmangilal', 'ૐ', 'namo', 'shivay']\n",
            "['skjnition', 'why', 'its', 'bad', 'if', 'it', 'would', 'get', 'you', 'admission', 'in', 'the', 'faculty', 'you', 'want', 'then', 'itisabsolutely', 'great', 'jamericat', 'be', 'proud', 'its', 'good', 'really', 'congratulations']\n",
            "['isro', 'agnikulcosmos']\n",
            "['wpt', 'investing', 'corp', 'wptweth', 'price', 'h', 'price', 'hour', 'volume', 'hour', 'holders', 'transactions', 'warpigstoken', 'eth', 'erc']\n",
            "['nishikantdubey', 'ashwinivaishnaw', 'after', 'the', 'years', 'of', 'independence,', 'bhagwan', 'lacks', 'the', 'banking', 'facility', 'available', 'so', 'village', 'economy', 'is', 'weak.', 'they', 'dream', 'of', 'indiaistrillion', 'economy', 'through', 'the', 'taxpayer', 'will', 'get', 'more', 'benefits', 'at', 'lower', 'cost']\n",
            "['tatnokhaboy']\n",
            "['congratulations']\n",
            "['spiritual', 'magazine', 'rishi', 'prasad', 'divya', 'anubhave', 'visheshank', 'jalai', 'read', 'sant', 'shri', 'asharamji', 'bapu']\n",
            "['and', 'akshay', 'marathe', 'happy', 'to', 'continue', 'the', 'conversation', 'please', 'let', 'me', 'know', 'when', 'we', 'can', 'speak']\n",
            "['agor', 'bhaskarsingh', 'om', 'namah', 'shivaya', 'om', 'namah', 'shavea', 'namah', 'namah', 'shiva', 'shabha', 'shakara', 'mahadev']\n",
            "['']\n",
            "['afreenfkhan', 'halala', 'halala']\n",
            "['chauhanaug', 'bjpsp', 'jai', 'shar', 'kashan']\n",
            "['free', 'nft', 'airdrop', 'drop', 'your', 'eth', 'address', 'follow', 'me', 'like', 'amp', 'rt']\n",
            "['is', 'this', 'the', 'most', 'glorioamerica', 'typo', 'or', 'what']\n",
            "['for', 'whom', 'braham', 'is', 'giving', 'all', 'the', 'time,', 'such', 'patriarch', 'sant', 'shri', 'asharamji', 'bapu', 'asram', 'dar', 'cannot', 'be', 'educated,', 'so', 'with', 'this', 'spiritual', 'magazine,', 'as', 'many', 'people', 'as', 'possible', 'should', 'be', 'divya', 'anubhave', 'visheshank', 'rishi', 'prasad', 'july']\n",
            "['hi', 'always', 'we', 'havee', 'two', 'ways', 'to', 'solve', 'a', 'problemopportunity', 'jamericat', 'we', 'havee', 'to', 'find', 'out', 'the', 'wayhow', 'is', 'it']\n",
            "['ashramgaamericahala', 'rishiprasadorg', 'rishidarshan', 'kamal', 'asharamjibapu', 'ashramkolkata', 'ashramjodhpur', 'ashramgoregaon', 'ashramgzb', 'ashramblr', 'ashramraipuram']\n",
            "['look', 'at', 'this', 'nice', 'beautiful', 'gorgeoamerica', 'fantastic', 'looking', 'glamoroamerica', 'beaut']\n",
            "['if', 'you', 'stay,', 'maybe', 'it', 'will', 'happen']\n",
            "['sawan', 'monday', 'lord', 'shiva', 'happy', 'sawan', 'monday', 'lord', 'shiva', 'twitter']\n",
            "['let', 'them', 'eat', 'their', 'heart', 'out', 'he', 'said', 'of', 'the', 'protestors', 'aurangabad', 'sambhajinagar']\n",
            "['petty', 'officer', 'indian', 'navy', 'rip', 'may', 'god', 'gives', 'strength', 'to', 'the', 'family', 'to', 'bear', 'this', 'monument', 'loss']\n",
            "['deepakswami', 'rajivdmk', 'seeman', 'official']\n",
            "['nuralam', 'hi', 'alam', 'we', 'are', 'sorry', 'to', 'know', 'that', 'you', 'are', 'facing', 'an', 'app', 'crash', 'issue', 'on', 'your', 'device', 'please', 'get', 'in', 'touch', 'with', 'america', 'via', 'dm', 'by', 'clicking', 'on', 'the', 'below', 'button', 'and', 'we', 'will', 'be', 'able', 'to', 'help']\n",
            "['omg', 'this', 'is', 'different', 'not', 'that', 'who', 'sold', 'pnb']\n",
            "['raziasworld', 'davidmariposa', 'kriteacharya', 'kitchitkat', 'z', 'habib', 'tareeqiqbalmohd', 'kkmohan', 'vaseemsreal', 'nuts', 'ilovehyderabad', 'yzaidi', 'kbiqbal', 'christinedemar', 'good', 'morning', 'yeshope', 'is', 'constant']\n"
          ]
        }
      ]
    },
    {
      "cell_type": "markdown",
      "source": [
        "# Creating Dictionary Object"
      ],
      "metadata": {
        "id": "g3u2NLWeRvAR"
      }
    },
    {
      "cell_type": "code",
      "source": [
        "dictionary = corpora.Dictionary(tokens)\n",
        "print(dictionary)\n",
        "print(dictionary.num_docs)"
      ],
      "metadata": {
        "colab": {
          "base_uri": "https://localhost:8080/"
        },
        "id": "GCiUaZPHQ_u6",
        "outputId": "9edc932a-d357-4083-8322-1e043c2884b3"
      },
      "execution_count": 35,
      "outputs": [
        {
          "output_type": "stream",
          "name": "stdout",
          "text": [
            "Dictionary(284 unique tokens: ['abidsensibul', 'codentrad', 'gowda', 'like', 'btscredit']...)\n",
            "50\n"
          ]
        }
      ]
    },
    {
      "cell_type": "markdown",
      "source": [
        "# Term Frequency"
      ],
      "metadata": {
        "id": "teQmmg2eSCXk"
      }
    },
    {
      "cell_type": "code",
      "source": [
        "corpus_doc2bow_vectors = [dictionary.doc2bow(tok_doc) for tok_doc in tokens]\n",
        "print(\"# Term Frequency : \")\n",
        "corpus_doc2bow_vectors[:5]"
      ],
      "metadata": {
        "colab": {
          "base_uri": "https://localhost:8080/"
        },
        "id": "UMnpQTIMR96X",
        "outputId": "1640e46d-bebf-40cb-fe9c-b5968472f84e"
      },
      "execution_count": 36,
      "outputs": [
        {
          "output_type": "stream",
          "name": "stdout",
          "text": [
            "# Term Frequency : \n"
          ]
        },
        {
          "output_type": "execute_result",
          "data": {
            "text/plain": [
              "[[(0, 1), (1, 1), (2, 1), (3, 1)],\n",
              " [(4, 1), (5, 1)],\n",
              " [(6, 1), (7, 1), (8, 1), (9, 1), (10, 1), (11, 1), (12, 1), (13, 1)],\n",
              " [(14, 1), (15, 1)],\n",
              " [(16, 2), (17, 1), (18, 1)]]"
            ]
          },
          "metadata": {},
          "execution_count": 36
        }
      ]
    },
    {
      "cell_type": "markdown",
      "source": [
        "# TF-IDF"
      ],
      "metadata": {
        "id": "ej9oxvCiSKVr"
      }
    },
    {
      "cell_type": "code",
      "source": [
        "tfidf_model = models.TfidfModel(corpus_doc2bow_vectors, id2word=dictionary, normalize=False)\n",
        "corpus_tfidf_vectors = tfidf_model[corpus_doc2bow_vectors]\n",
        "\n",
        "print(\"\\n# TF_IDF: \")\n",
        "print(corpus_tfidf_vectors[5])"
      ],
      "metadata": {
        "colab": {
          "base_uri": "https://localhost:8080/"
        },
        "id": "39537JXcSHXK",
        "outputId": "c4f0fe2e-b0d2-49fc-c0c0-0e2b5fba1ba2"
      },
      "execution_count": 37,
      "outputs": [
        {
          "output_type": "stream",
          "name": "stdout",
          "text": [
            "\n",
            "# TF_IDF: \n",
            "[(19, 5.643856189774724)]\n"
          ]
        }
      ]
    },
    {
      "cell_type": "markdown",
      "source": [
        "# Running LDA using Bag of Words"
      ],
      "metadata": {
        "id": "U-p6YISQSRm6"
      }
    },
    {
      "cell_type": "code",
      "source": [
        "lda_model = gensim.models.LdaMulticore(corpus_doc2bow_vectors, num_topics=10, id2word=dictionary, passes=2, workers=2)"
      ],
      "metadata": {
        "id": "-vrshdLGSOv0"
      },
      "execution_count": 38,
      "outputs": []
    },
    {
      "cell_type": "markdown",
      "source": [
        "For each topic, we will explore the words occuring in that topic and its relative weight."
      ],
      "metadata": {
        "id": "MipDmPkISYCC"
      }
    },
    {
      "cell_type": "code",
      "source": [
        "for idx, topic in lda_model.print_topics(-1):\n",
        "    print('Topic: {} \\nWords: {}'.format(idx, topic))"
      ],
      "metadata": {
        "colab": {
          "base_uri": "https://localhost:8080/"
        },
        "id": "2fXcAyQhSWDq",
        "outputId": "8c36ef09-f5f4-4e81-9ad1-31be836c6522"
      },
      "execution_count": 39,
      "outputs": [
        {
          "output_type": "stream",
          "name": "stdout",
          "text": [
            "Topic: 0 \n",
            "Words: 0.068*\"namah\" + 0.035*\"om\" + 0.018*\"bhaskarsingh\" + 0.018*\"mahadev\" + 0.018*\"happen\" + 0.018*\"let\" + 0.018*\"shivaya\" + 0.018*\"shakara\" + 0.018*\"shabha\" + 0.018*\"agor\"\n",
            "Topic: 1 \n",
            "Words: 0.030*\"magazin\" + 0.030*\"rishi\" + 0.030*\"anubhav\" + 0.030*\"spiritu\" + 0.030*\"visheshank\" + 0.030*\"sant\" + 0.030*\"divya\" + 0.030*\"shri\" + 0.030*\"bapu\" + 0.030*\"asharamji\"\n",
            "Topic: 2 \n",
            "Words: 0.033*\"differ\" + 0.029*\"magazin\" + 0.017*\"get\" + 0.017*\"publish\" + 0.017*\"prasaad\" + 0.017*\"experi\" + 0.017*\"incompar\" + 0.017*\"knowledg\" + 0.017*\"namo\" + 0.017*\"shumbmangil\"\n",
            "Topic: 3 \n",
            "Words: 0.032*\"chang\" + 0.032*\"twitter\" + 0.032*\"tell\" + 0.032*\"americaernam\" + 0.032*\"anyon\" + 0.032*\"bitcoinlebron\" + 0.003*\"har\" + 0.003*\"congratul\" + 0.003*\"asuryavanshi\" + 0.003*\"tatnokhaboy\"\n",
            "Topic: 4 \n",
            "Words: 0.043*\"congratul\" + 0.022*\"get\" + 0.022*\"jamericat\" + 0.022*\"good\" + 0.022*\"proud\" + 0.022*\"itisabsolut\" + 0.022*\"realli\" + 0.022*\"great\" + 0.022*\"admiss\" + 0.022*\"faculti\"\n",
            "Topic: 5 \n",
            "Words: 0.043*\"bjp\" + 0.029*\"amp\" + 0.028*\"economi\" + 0.015*\"like\" + 0.015*\"time\" + 0.015*\"birthday\" + 0.015*\"wish\" + 0.015*\"karnataka\" + 0.015*\"goa\" + 0.015*\"legisl\"\n",
            "Topic: 6 \n",
            "Words: 0.054*\"har\" + 0.027*\"price\" + 0.027*\"hour\" + 0.027*\"look\" + 0.027*\"mahdav\" + 0.014*\"volum\" + 0.014*\"warpigstoken\" + 0.014*\"eth\" + 0.014*\"invest\" + 0.014*\"wptweth\"\n",
            "Topic: 7 \n",
            "Words: 0.041*\"monday\" + 0.041*\"shiva\" + 0.041*\"lord\" + 0.041*\"sawan\" + 0.021*\"happi\" + 0.021*\"petti\" + 0.021*\"give\" + 0.021*\"famili\" + 0.021*\"indian\" + 0.021*\"navi\"\n",
            "Topic: 8 \n",
            "Words: 0.025*\"have\" + 0.025*\"hi\" + 0.025*\"halala\" + 0.013*\"pleas\" + 0.013*\"know\" + 0.013*\"america\" + 0.013*\"abl\" + 0.013*\"get\" + 0.013*\"nuralam\" + 0.013*\"app\"\n",
            "Topic: 9 \n",
            "Words: 0.044*\"har\" + 0.023*\"categori\" + 0.023*\"gopichandpmlc\" + 0.023*\"pahan\" + 0.023*\"chang\" + 0.023*\"salach\" + 0.023*\"gad\" + 0.023*\"devfadnavi\" + 0.023*\"psantosh\" + 0.023*\"mahdev\"\n"
          ]
        }
      ]
    },
    {
      "cell_type": "markdown",
      "source": [
        "Distinguish between different topics using the words in each topic and the corresponding weights"
      ],
      "metadata": {
        "id": "3Kbb_7_qSfE_"
      }
    },
    {
      "cell_type": "markdown",
      "source": [
        "# Running LDA using TF-IDF"
      ],
      "metadata": {
        "id": "Hy1PYzVoSlFN"
      }
    },
    {
      "cell_type": "code",
      "source": [
        "lda_model_tfidf = gensim.models.LdaMulticore(corpus_tfidf_vectors, num_topics=10, id2word=dictionary, passes=2, workers=4)\n",
        "for idx, topic in lda_model_tfidf.print_topics(-1):\n",
        "    print('Topic: {} Word: {}'.format(idx, topic))"
      ],
      "metadata": {
        "id": "1WHOZZFGShAc",
        "colab": {
          "base_uri": "https://localhost:8080/"
        },
        "outputId": "ef403082-fd41-4997-f36d-afa03f23471d"
      },
      "execution_count": 40,
      "outputs": [
        {
          "output_type": "stream",
          "name": "stdout",
          "text": [
            "Topic: 0 Word: 0.045*\"sawan\" + 0.044*\"lord\" + 0.037*\"shiva\" + 0.036*\"monday\" + 0.030*\"peopl\" + 0.029*\"magazin\" + 0.025*\"mayb\" + 0.025*\"stay\" + 0.025*\"tatnokhaboy\" + 0.024*\"shri\"\n",
            "Topic: 1 Word: 0.134*\"namah\" + 0.067*\"om\" + 0.034*\"shabha\" + 0.034*\"shavea\" + 0.034*\"shivaya\" + 0.034*\"shakara\" + 0.034*\"agor\" + 0.034*\"wear\" + 0.034*\"gopalga\" + 0.034*\"manisuniform\"\n",
            "Topic: 2 Word: 0.056*\"look\" + 0.054*\"hour\" + 0.053*\"price\" + 0.028*\"beauti\" + 0.028*\"beaut\" + 0.028*\"gorgeoamerica\" + 0.028*\"glamoroamerica\" + 0.028*\"fantast\" + 0.028*\"nice\" + 0.028*\"isro\"\n",
            "Topic: 3 Word: 0.060*\"have\" + 0.037*\"categori\" + 0.037*\"pahan\" + 0.037*\"gad\" + 0.037*\"salach\" + 0.037*\"devfadnavi\" + 0.037*\"gopichandpmlc\" + 0.033*\"offici\" + 0.032*\"rajivdmk\" + 0.032*\"seeman\"\n",
            "Topic: 4 Word: 0.048*\"economi\" + 0.027*\"shumbmangil\" + 0.027*\"nak\" + 0.027*\"begumnoj\" + 0.027*\"namo\" + 0.027*\"gowda\" + 0.027*\"shivay\" + 0.027*\"abidsensibul\" + 0.027*\"codentrad\" + 0.027*\"gatapa\"\n",
            "Topic: 5 Word: 0.033*\"har\" + 0.023*\"hypernationalst\" + 0.023*\"psantosh\" + 0.023*\"mahdev\" + 0.023*\"bitcoinlebron\" + 0.021*\"americaernam\" + 0.021*\"tell\" + 0.020*\"ashramblr\" + 0.020*\"ashramgaamericahala\" + 0.020*\"rishidarshan\"\n",
            "Topic: 6 Word: 0.047*\"halala\" + 0.037*\"jalai\" + 0.033*\"magazin\" + 0.033*\"visheshank\" + 0.033*\"prasad\" + 0.032*\"sant\" + 0.032*\"spiritu\" + 0.032*\"divya\" + 0.032*\"bapu\" + 0.032*\"shri\"\n",
            "Topic: 7 Word: 0.048*\"bjp\" + 0.035*\"know\" + 0.028*\"pleas\" + 0.019*\"typo\" + 0.019*\"rishquot\" + 0.019*\"glorioamerica\" + 0.018*\"six\" + 0.018*\"pant\" + 0.018*\"speak\" + 0.018*\"superhero\"\n",
            "Topic: 8 Word: 0.065*\"har\" + 0.024*\"vachhan\" + 0.022*\"aninewsup\" + 0.022*\"ani\" + 0.021*\"bear\" + 0.021*\"indian\" + 0.021*\"god\" + 0.021*\"aurangabad\" + 0.021*\"sambhajinagar\" + 0.021*\"offic\"\n",
            "Topic: 9 Word: 0.028*\"craigbrownphd\" + 0.028*\"elira\" + 0.028*\"updat\" + 0.028*\"cloud\" + 0.028*\"latest\" + 0.028*\"rightstudi\" + 0.028*\"thank\" + 0.028*\"btscredit\" + 0.028*\"yach\" + 0.028*\"maharaj\"\n"
          ]
        }
      ]
    },
    {
      "cell_type": "markdown",
      "source": [
        "# Classification of the topics\n",
        "Performance evaluation by classifying sample document using LDA Bag of Words model\n",
        "We will check where our test document would be classified."
      ],
      "metadata": {
        "id": "WZ6rCUWWStC-"
      }
    },
    {
      "cell_type": "code",
      "source": [
        "for index, score in sorted(lda_model[corpus_doc2bow_vectors[1]], key=lambda tup: -1*tup[1]):\n",
        "    print(\"\\nScore: {}\\t \\nTopic: {}\".format(score, lda_model.print_topic(index, 10)))"
      ],
      "metadata": {
        "id": "WmK1WojISyNK",
        "colab": {
          "base_uri": "https://localhost:8080/"
        },
        "outputId": "7f442fd4-027d-4d9a-9fbe-3534457b1abc"
      },
      "execution_count": 41,
      "outputs": [
        {
          "output_type": "stream",
          "name": "stdout",
          "text": [
            "\n",
            "Score: 0.6999876499176025\t \n",
            "Topic: 0.030*\"magazin\" + 0.030*\"rishi\" + 0.030*\"anubhav\" + 0.030*\"spiritu\" + 0.030*\"visheshank\" + 0.030*\"sant\" + 0.030*\"divya\" + 0.030*\"shri\" + 0.030*\"bapu\" + 0.030*\"asharamji\"\n",
            "\n",
            "Score: 0.03334566578269005\t \n",
            "Topic: 0.068*\"namah\" + 0.035*\"om\" + 0.018*\"bhaskarsingh\" + 0.018*\"mahadev\" + 0.018*\"happen\" + 0.018*\"let\" + 0.018*\"shivaya\" + 0.018*\"shakara\" + 0.018*\"shabha\" + 0.018*\"agor\"\n",
            "\n",
            "Score: 0.03333333507180214\t \n",
            "Topic: 0.033*\"differ\" + 0.029*\"magazin\" + 0.017*\"get\" + 0.017*\"publish\" + 0.017*\"prasaad\" + 0.017*\"experi\" + 0.017*\"incompar\" + 0.017*\"knowledg\" + 0.017*\"namo\" + 0.017*\"shumbmangil\"\n",
            "\n",
            "Score: 0.03333333507180214\t \n",
            "Topic: 0.032*\"chang\" + 0.032*\"twitter\" + 0.032*\"tell\" + 0.032*\"americaernam\" + 0.032*\"anyon\" + 0.032*\"bitcoinlebron\" + 0.003*\"har\" + 0.003*\"congratul\" + 0.003*\"asuryavanshi\" + 0.003*\"tatnokhaboy\"\n",
            "\n",
            "Score: 0.03333333507180214\t \n",
            "Topic: 0.043*\"congratul\" + 0.022*\"get\" + 0.022*\"jamericat\" + 0.022*\"good\" + 0.022*\"proud\" + 0.022*\"itisabsolut\" + 0.022*\"realli\" + 0.022*\"great\" + 0.022*\"admiss\" + 0.022*\"faculti\"\n",
            "\n",
            "Score: 0.03333333507180214\t \n",
            "Topic: 0.043*\"bjp\" + 0.029*\"amp\" + 0.028*\"economi\" + 0.015*\"like\" + 0.015*\"time\" + 0.015*\"birthday\" + 0.015*\"wish\" + 0.015*\"karnataka\" + 0.015*\"goa\" + 0.015*\"legisl\"\n",
            "\n",
            "Score: 0.03333333507180214\t \n",
            "Topic: 0.054*\"har\" + 0.027*\"price\" + 0.027*\"hour\" + 0.027*\"look\" + 0.027*\"mahdav\" + 0.014*\"volum\" + 0.014*\"warpigstoken\" + 0.014*\"eth\" + 0.014*\"invest\" + 0.014*\"wptweth\"\n",
            "\n",
            "Score: 0.03333333507180214\t \n",
            "Topic: 0.041*\"monday\" + 0.041*\"shiva\" + 0.041*\"lord\" + 0.041*\"sawan\" + 0.021*\"happi\" + 0.021*\"petti\" + 0.021*\"give\" + 0.021*\"famili\" + 0.021*\"indian\" + 0.021*\"navi\"\n",
            "\n",
            "Score: 0.03333333507180214\t \n",
            "Topic: 0.025*\"have\" + 0.025*\"hi\" + 0.025*\"halala\" + 0.013*\"pleas\" + 0.013*\"know\" + 0.013*\"america\" + 0.013*\"abl\" + 0.013*\"get\" + 0.013*\"nuralam\" + 0.013*\"app\"\n",
            "\n",
            "Score: 0.03333333507180214\t \n",
            "Topic: 0.044*\"har\" + 0.023*\"categori\" + 0.023*\"gopichandpmlc\" + 0.023*\"pahan\" + 0.023*\"chang\" + 0.023*\"salach\" + 0.023*\"gad\" + 0.023*\"devfadnavi\" + 0.023*\"psantosh\" + 0.023*\"mahdev\"\n"
          ]
        }
      ]
    },
    {
      "cell_type": "markdown",
      "source": [
        "# Performance evaluation by classifying sample document using LDA TF-IDF model."
      ],
      "metadata": {
        "id": "jH8p4XGkS3zG"
      }
    },
    {
      "cell_type": "code",
      "source": [
        "for index, score in sorted(lda_model_tfidf[corpus_doc2bow_vectors[1]], key=lambda tup: -1*tup[1]):\n",
        "    print(\"\\nScore: {}\\t \\nTopic: {}\".format(score, lda_model_tfidf.print_topic(index, 10)))"
      ],
      "metadata": {
        "id": "oOYYNV7iS514",
        "colab": {
          "base_uri": "https://localhost:8080/"
        },
        "outputId": "8cae6214-a09a-4101-b333-32d866db714f"
      },
      "execution_count": 42,
      "outputs": [
        {
          "output_type": "stream",
          "name": "stdout",
          "text": [
            "\n",
            "Score: 0.6999946236610413\t \n",
            "Topic: 0.028*\"craigbrownphd\" + 0.028*\"elira\" + 0.028*\"updat\" + 0.028*\"cloud\" + 0.028*\"latest\" + 0.028*\"rightstudi\" + 0.028*\"thank\" + 0.028*\"btscredit\" + 0.028*\"yach\" + 0.028*\"maharaj\"\n",
            "\n",
            "Score: 0.033338699489831924\t \n",
            "Topic: 0.045*\"sawan\" + 0.044*\"lord\" + 0.037*\"shiva\" + 0.036*\"monday\" + 0.030*\"peopl\" + 0.029*\"magazin\" + 0.025*\"mayb\" + 0.025*\"stay\" + 0.025*\"tatnokhaboy\" + 0.024*\"shri\"\n",
            "\n",
            "Score: 0.03333333507180214\t \n",
            "Topic: 0.134*\"namah\" + 0.067*\"om\" + 0.034*\"shabha\" + 0.034*\"shavea\" + 0.034*\"shivaya\" + 0.034*\"shakara\" + 0.034*\"agor\" + 0.034*\"wear\" + 0.034*\"gopalga\" + 0.034*\"manisuniform\"\n",
            "\n",
            "Score: 0.03333333507180214\t \n",
            "Topic: 0.056*\"look\" + 0.054*\"hour\" + 0.053*\"price\" + 0.028*\"beauti\" + 0.028*\"beaut\" + 0.028*\"gorgeoamerica\" + 0.028*\"glamoroamerica\" + 0.028*\"fantast\" + 0.028*\"nice\" + 0.028*\"isro\"\n",
            "\n",
            "Score: 0.03333333507180214\t \n",
            "Topic: 0.060*\"have\" + 0.037*\"categori\" + 0.037*\"pahan\" + 0.037*\"gad\" + 0.037*\"salach\" + 0.037*\"devfadnavi\" + 0.037*\"gopichandpmlc\" + 0.033*\"offici\" + 0.032*\"rajivdmk\" + 0.032*\"seeman\"\n",
            "\n",
            "Score: 0.03333333507180214\t \n",
            "Topic: 0.048*\"economi\" + 0.027*\"shumbmangil\" + 0.027*\"nak\" + 0.027*\"begumnoj\" + 0.027*\"namo\" + 0.027*\"gowda\" + 0.027*\"shivay\" + 0.027*\"abidsensibul\" + 0.027*\"codentrad\" + 0.027*\"gatapa\"\n",
            "\n",
            "Score: 0.03333333507180214\t \n",
            "Topic: 0.033*\"har\" + 0.023*\"hypernationalst\" + 0.023*\"psantosh\" + 0.023*\"mahdev\" + 0.023*\"bitcoinlebron\" + 0.021*\"americaernam\" + 0.021*\"tell\" + 0.020*\"ashramblr\" + 0.020*\"ashramgaamericahala\" + 0.020*\"rishidarshan\"\n",
            "\n",
            "Score: 0.03333333507180214\t \n",
            "Topic: 0.047*\"halala\" + 0.037*\"jalai\" + 0.033*\"magazin\" + 0.033*\"visheshank\" + 0.033*\"prasad\" + 0.032*\"sant\" + 0.032*\"spiritu\" + 0.032*\"divya\" + 0.032*\"bapu\" + 0.032*\"shri\"\n",
            "\n",
            "Score: 0.03333333507180214\t \n",
            "Topic: 0.048*\"bjp\" + 0.035*\"know\" + 0.028*\"pleas\" + 0.019*\"typo\" + 0.019*\"rishquot\" + 0.019*\"glorioamerica\" + 0.018*\"six\" + 0.018*\"pant\" + 0.018*\"speak\" + 0.018*\"superhero\"\n",
            "\n",
            "Score: 0.03333333507180214\t \n",
            "Topic: 0.065*\"har\" + 0.024*\"vachhan\" + 0.022*\"aninewsup\" + 0.022*\"ani\" + 0.021*\"bear\" + 0.021*\"indian\" + 0.021*\"god\" + 0.021*\"aurangabad\" + 0.021*\"sambhajinagar\" + 0.021*\"offic\"\n"
          ]
        }
      ]
    },
    {
      "cell_type": "code",
      "source": [
        "import matplotlib.pyplot as plt\n",
        "import matplotlib.image as mpimg \n",
        "import seaborn as sns\n",
        "\n",
        "fig = plt.figure(figsize = (20,30))\n",
        "    \n",
        "for i in range(10):\n",
        "    df = pd.DataFrame(lda_model_tfidf.show_topic(i,12), columns=['term','prob']).set_index('term')\n",
        "    plt.subplot(5,2,i+1)\n",
        "    plt.title('topic'+str(i+1))\n",
        "    sns.barplot(x='prob', y=df.index, data=df)\n",
        "    plt.xlabel('probability')\n",
        "plt.show()"
      ],
      "metadata": {
        "id": "aCyuUOkMS_FT",
        "colab": {
          "base_uri": "https://localhost:8080/",
          "height": 1000
        },
        "outputId": "047739e8-bc26-4d19-c0ae-38422227f786"
      },
      "execution_count": 43,
      "outputs": [
        {
          "output_type": "display_data",
          "data": {
            "text/plain": [
              "<Figure size 1440x2160 with 10 Axes>"
            ],
            "image/png": "[encoded data removed]"
          },
          "metadata": {
            "needs_background": "light"
          }
        }
      ]
    }
  ]
}